{
 "cells": [
  {
   "cell_type": "code",
   "execution_count": 1,
   "id": "75149757",
   "metadata": {},
   "outputs": [],
   "source": [
    "import pandas as pd"
   ]
  },
  {
   "cell_type": "code",
   "execution_count": 2,
   "id": "95677198",
   "metadata": {},
   "outputs": [],
   "source": [
    "df = pd.read_csv(\"survey_results_public.csv\")"
   ]
  },
  {
   "cell_type": "code",
   "execution_count": 3,
   "id": "52945a96",
   "metadata": {},
   "outputs": [
    {
     "data": {
      "text/html": [
       "<div>\n",
       "<style scoped>\n",
       "    .dataframe tbody tr th:only-of-type {\n",
       "        vertical-align: middle;\n",
       "    }\n",
       "\n",
       "    .dataframe tbody tr th {\n",
       "        vertical-align: top;\n",
       "    }\n",
       "\n",
       "    .dataframe thead th {\n",
       "        text-align: right;\n",
       "    }\n",
       "</style>\n",
       "<table border=\"1\" class=\"dataframe\">\n",
       "  <thead>\n",
       "    <tr style=\"text-align: right;\">\n",
       "      <th></th>\n",
       "      <th>Respondent</th>\n",
       "      <th>MainBranch</th>\n",
       "      <th>Hobbyist</th>\n",
       "      <th>OpenSourcer</th>\n",
       "      <th>OpenSource</th>\n",
       "      <th>Employment</th>\n",
       "      <th>Country</th>\n",
       "      <th>Student</th>\n",
       "      <th>EdLevel</th>\n",
       "      <th>UndergradMajor</th>\n",
       "      <th>...</th>\n",
       "      <th>WelcomeChange</th>\n",
       "      <th>SONewContent</th>\n",
       "      <th>Age</th>\n",
       "      <th>Gender</th>\n",
       "      <th>Trans</th>\n",
       "      <th>Sexuality</th>\n",
       "      <th>Ethnicity</th>\n",
       "      <th>Dependents</th>\n",
       "      <th>SurveyLength</th>\n",
       "      <th>SurveyEase</th>\n",
       "    </tr>\n",
       "  </thead>\n",
       "  <tbody>\n",
       "    <tr>\n",
       "      <th>0</th>\n",
       "      <td>1</td>\n",
       "      <td>I am a student who is learning to code</td>\n",
       "      <td>Yes</td>\n",
       "      <td>Never</td>\n",
       "      <td>The quality of OSS and closed source software ...</td>\n",
       "      <td>Not employed, and not looking for work</td>\n",
       "      <td>United Kingdom</td>\n",
       "      <td>No</td>\n",
       "      <td>Primary/elementary school</td>\n",
       "      <td>NaN</td>\n",
       "      <td>...</td>\n",
       "      <td>Just as welcome now as I felt last year</td>\n",
       "      <td>Tech articles written by other developers;Indu...</td>\n",
       "      <td>14.0</td>\n",
       "      <td>Man</td>\n",
       "      <td>No</td>\n",
       "      <td>Straight / Heterosexual</td>\n",
       "      <td>NaN</td>\n",
       "      <td>No</td>\n",
       "      <td>Appropriate in length</td>\n",
       "      <td>Neither easy nor difficult</td>\n",
       "    </tr>\n",
       "    <tr>\n",
       "      <th>1</th>\n",
       "      <td>2</td>\n",
       "      <td>I am a student who is learning to code</td>\n",
       "      <td>No</td>\n",
       "      <td>Less than once per year</td>\n",
       "      <td>The quality of OSS and closed source software ...</td>\n",
       "      <td>Not employed, but looking for work</td>\n",
       "      <td>Bosnia and Herzegovina</td>\n",
       "      <td>Yes, full-time</td>\n",
       "      <td>Secondary school (e.g. American high school, G...</td>\n",
       "      <td>NaN</td>\n",
       "      <td>...</td>\n",
       "      <td>Just as welcome now as I felt last year</td>\n",
       "      <td>Tech articles written by other developers;Indu...</td>\n",
       "      <td>19.0</td>\n",
       "      <td>Man</td>\n",
       "      <td>No</td>\n",
       "      <td>Straight / Heterosexual</td>\n",
       "      <td>NaN</td>\n",
       "      <td>No</td>\n",
       "      <td>Appropriate in length</td>\n",
       "      <td>Neither easy nor difficult</td>\n",
       "    </tr>\n",
       "    <tr>\n",
       "      <th>2</th>\n",
       "      <td>3</td>\n",
       "      <td>I am not primarily a developer, but I write co...</td>\n",
       "      <td>Yes</td>\n",
       "      <td>Never</td>\n",
       "      <td>The quality of OSS and closed source software ...</td>\n",
       "      <td>Employed full-time</td>\n",
       "      <td>Thailand</td>\n",
       "      <td>No</td>\n",
       "      <td>Bachelor’s degree (BA, BS, B.Eng., etc.)</td>\n",
       "      <td>Web development or web design</td>\n",
       "      <td>...</td>\n",
       "      <td>Just as welcome now as I felt last year</td>\n",
       "      <td>Tech meetups or events in your area;Courses on...</td>\n",
       "      <td>28.0</td>\n",
       "      <td>Man</td>\n",
       "      <td>No</td>\n",
       "      <td>Straight / Heterosexual</td>\n",
       "      <td>NaN</td>\n",
       "      <td>Yes</td>\n",
       "      <td>Appropriate in length</td>\n",
       "      <td>Neither easy nor difficult</td>\n",
       "    </tr>\n",
       "    <tr>\n",
       "      <th>3</th>\n",
       "      <td>4</td>\n",
       "      <td>I am a developer by profession</td>\n",
       "      <td>No</td>\n",
       "      <td>Never</td>\n",
       "      <td>The quality of OSS and closed source software ...</td>\n",
       "      <td>Employed full-time</td>\n",
       "      <td>United States</td>\n",
       "      <td>No</td>\n",
       "      <td>Bachelor’s degree (BA, BS, B.Eng., etc.)</td>\n",
       "      <td>Computer science, computer engineering, or sof...</td>\n",
       "      <td>...</td>\n",
       "      <td>Just as welcome now as I felt last year</td>\n",
       "      <td>Tech articles written by other developers;Indu...</td>\n",
       "      <td>22.0</td>\n",
       "      <td>Man</td>\n",
       "      <td>No</td>\n",
       "      <td>Straight / Heterosexual</td>\n",
       "      <td>White or of European descent</td>\n",
       "      <td>No</td>\n",
       "      <td>Appropriate in length</td>\n",
       "      <td>Easy</td>\n",
       "    </tr>\n",
       "    <tr>\n",
       "      <th>4</th>\n",
       "      <td>5</td>\n",
       "      <td>I am a developer by profession</td>\n",
       "      <td>Yes</td>\n",
       "      <td>Once a month or more often</td>\n",
       "      <td>OSS is, on average, of HIGHER quality than pro...</td>\n",
       "      <td>Employed full-time</td>\n",
       "      <td>Ukraine</td>\n",
       "      <td>No</td>\n",
       "      <td>Bachelor’s degree (BA, BS, B.Eng., etc.)</td>\n",
       "      <td>Computer science, computer engineering, or sof...</td>\n",
       "      <td>...</td>\n",
       "      <td>Just as welcome now as I felt last year</td>\n",
       "      <td>Tech meetups or events in your area;Courses on...</td>\n",
       "      <td>30.0</td>\n",
       "      <td>Man</td>\n",
       "      <td>No</td>\n",
       "      <td>Straight / Heterosexual</td>\n",
       "      <td>White or of European descent;Multiracial</td>\n",
       "      <td>No</td>\n",
       "      <td>Appropriate in length</td>\n",
       "      <td>Easy</td>\n",
       "    </tr>\n",
       "  </tbody>\n",
       "</table>\n",
       "<p>5 rows × 85 columns</p>\n",
       "</div>"
      ],
      "text/plain": [
       "   Respondent                                         MainBranch Hobbyist  \\\n",
       "0           1             I am a student who is learning to code      Yes   \n",
       "1           2             I am a student who is learning to code       No   \n",
       "2           3  I am not primarily a developer, but I write co...      Yes   \n",
       "3           4                     I am a developer by profession       No   \n",
       "4           5                     I am a developer by profession      Yes   \n",
       "\n",
       "                  OpenSourcer  \\\n",
       "0                       Never   \n",
       "1     Less than once per year   \n",
       "2                       Never   \n",
       "3                       Never   \n",
       "4  Once a month or more often   \n",
       "\n",
       "                                          OpenSource  \\\n",
       "0  The quality of OSS and closed source software ...   \n",
       "1  The quality of OSS and closed source software ...   \n",
       "2  The quality of OSS and closed source software ...   \n",
       "3  The quality of OSS and closed source software ...   \n",
       "4  OSS is, on average, of HIGHER quality than pro...   \n",
       "\n",
       "                               Employment                 Country  \\\n",
       "0  Not employed, and not looking for work          United Kingdom   \n",
       "1      Not employed, but looking for work  Bosnia and Herzegovina   \n",
       "2                      Employed full-time                Thailand   \n",
       "3                      Employed full-time           United States   \n",
       "4                      Employed full-time                 Ukraine   \n",
       "\n",
       "          Student                                            EdLevel  \\\n",
       "0              No                          Primary/elementary school   \n",
       "1  Yes, full-time  Secondary school (e.g. American high school, G...   \n",
       "2              No           Bachelor’s degree (BA, BS, B.Eng., etc.)   \n",
       "3              No           Bachelor’s degree (BA, BS, B.Eng., etc.)   \n",
       "4              No           Bachelor’s degree (BA, BS, B.Eng., etc.)   \n",
       "\n",
       "                                      UndergradMajor  ...  \\\n",
       "0                                                NaN  ...   \n",
       "1                                                NaN  ...   \n",
       "2                      Web development or web design  ...   \n",
       "3  Computer science, computer engineering, or sof...  ...   \n",
       "4  Computer science, computer engineering, or sof...  ...   \n",
       "\n",
       "                             WelcomeChange  \\\n",
       "0  Just as welcome now as I felt last year   \n",
       "1  Just as welcome now as I felt last year   \n",
       "2  Just as welcome now as I felt last year   \n",
       "3  Just as welcome now as I felt last year   \n",
       "4  Just as welcome now as I felt last year   \n",
       "\n",
       "                                        SONewContent   Age Gender Trans  \\\n",
       "0  Tech articles written by other developers;Indu...  14.0    Man    No   \n",
       "1  Tech articles written by other developers;Indu...  19.0    Man    No   \n",
       "2  Tech meetups or events in your area;Courses on...  28.0    Man    No   \n",
       "3  Tech articles written by other developers;Indu...  22.0    Man    No   \n",
       "4  Tech meetups or events in your area;Courses on...  30.0    Man    No   \n",
       "\n",
       "                 Sexuality                                 Ethnicity  \\\n",
       "0  Straight / Heterosexual                                       NaN   \n",
       "1  Straight / Heterosexual                                       NaN   \n",
       "2  Straight / Heterosexual                                       NaN   \n",
       "3  Straight / Heterosexual              White or of European descent   \n",
       "4  Straight / Heterosexual  White or of European descent;Multiracial   \n",
       "\n",
       "  Dependents           SurveyLength                  SurveyEase  \n",
       "0         No  Appropriate in length  Neither easy nor difficult  \n",
       "1         No  Appropriate in length  Neither easy nor difficult  \n",
       "2        Yes  Appropriate in length  Neither easy nor difficult  \n",
       "3         No  Appropriate in length                        Easy  \n",
       "4         No  Appropriate in length                        Easy  \n",
       "\n",
       "[5 rows x 85 columns]"
      ]
     },
     "execution_count": 3,
     "metadata": {},
     "output_type": "execute_result"
    }
   ],
   "source": [
    "df.head()"
   ]
  },
  {
   "cell_type": "markdown",
   "id": "adc3ebce",
   "metadata": {},
   "source": [
    "## 1. Find the average age of developers when they wrote their first line of code. "
   ]
  },
  {
   "cell_type": "code",
   "execution_count": 4,
   "id": "38a51237",
   "metadata": {},
   "outputs": [
    {
     "data": {
      "text/plain": [
       "True"
      ]
     },
     "execution_count": 4,
     "metadata": {},
     "output_type": "execute_result"
    }
   ],
   "source": [
    "df['Age1stCode'].isnull().values.any()"
   ]
  },
  {
   "cell_type": "code",
   "execution_count": 5,
   "id": "6f93d2bd",
   "metadata": {},
   "outputs": [],
   "source": [
    "df1 = df.dropna(subset=['Age1stCode'])"
   ]
  },
  {
   "cell_type": "code",
   "execution_count": 6,
   "id": "3e11017a",
   "metadata": {},
   "outputs": [
    {
     "data": {
      "text/plain": [
       "False"
      ]
     },
     "execution_count": 6,
     "metadata": {},
     "output_type": "execute_result"
    }
   ],
   "source": [
    "df1['Age1stCode'].isnull().values.any()"
   ]
  },
  {
   "cell_type": "code",
   "execution_count": 7,
   "id": "a63e2367",
   "metadata": {},
   "outputs": [],
   "source": [
    "suma = 0\n",
    "for val in df1['Age1stCode']:\n",
    "    if val not in ['Younger than 5 years','Older than 85' ]:\n",
    "        suma += int(val)"
   ]
  },
  {
   "cell_type": "code",
   "execution_count": 8,
   "id": "d82d11c0",
   "metadata": {},
   "outputs": [
    {
     "data": {
      "text/plain": [
       "1346071"
      ]
     },
     "execution_count": 8,
     "metadata": {},
     "output_type": "execute_result"
    }
   ],
   "source": [
    "suma"
   ]
  },
  {
   "cell_type": "code",
   "execution_count": 9,
   "id": "a475d15e",
   "metadata": {},
   "outputs": [],
   "source": [
    "average = suma/len(df1['Age1stCode'])"
   ]
  },
  {
   "cell_type": "code",
   "execution_count": 10,
   "id": "b40ff78a",
   "metadata": {},
   "outputs": [
    {
     "data": {
      "text/plain": [
       "15.360145605586872"
      ]
     },
     "execution_count": 10,
     "metadata": {},
     "output_type": "execute_result"
    }
   ],
   "source": [
    "average"
   ]
  },
  {
   "cell_type": "markdown",
   "id": "7cc9d617",
   "metadata": {},
   "source": [
    "## 2. Deduce the percentage of developers who knew python in each country.  "
   ]
  },
  {
   "cell_type": "code",
   "execution_count": 11,
   "id": "84733dd5",
   "metadata": {},
   "outputs": [],
   "source": [
    "df2 = df.dropna(subset=['LanguageWorkedWith'])"
   ]
  },
  {
   "cell_type": "code",
   "execution_count": 12,
   "id": "1a15ef9f",
   "metadata": {},
   "outputs": [
    {
     "data": {
      "text/plain": [
       "False"
      ]
     },
     "execution_count": 12,
     "metadata": {},
     "output_type": "execute_result"
    }
   ],
   "source": [
    "df2['LanguageWorkedWith'].isnull().values.any()"
   ]
  },
  {
   "cell_type": "code",
   "execution_count": 13,
   "id": "85783c23",
   "metadata": {},
   "outputs": [
    {
     "data": {
      "text/plain": [
       "False"
      ]
     },
     "execution_count": 13,
     "metadata": {},
     "output_type": "execute_result"
    }
   ],
   "source": [
    "df2['Country'].isnull().values.any()"
   ]
  },
  {
   "cell_type": "code",
   "execution_count": 14,
   "id": "c2196269",
   "metadata": {},
   "outputs": [],
   "source": [
    "import re"
   ]
  },
  {
   "cell_type": "code",
   "execution_count": 15,
   "id": "4471ff88",
   "metadata": {},
   "outputs": [],
   "source": [
    "d = {}\n",
    "for i in range(len(df2['Country'])):\n",
    "    x = re.search(\"(Python)\",df2['LanguageWorkedWith'].iloc[i])\n",
    "    if x:\n",
    "        if df2['Country'].iloc[i] not in d:\n",
    "            d[df2['Country'].iloc[i]] = 1\n",
    "            #print(df2['Country'].iloc[i])\n",
    "        else:\n",
    "            d[df2['Country'].iloc[i]] += 1\n",
    "            #print(df2['Country'].iloc[i])"
   ]
  },
  {
   "cell_type": "code",
   "execution_count": 16,
   "id": "44da3111",
   "metadata": {},
   "outputs": [
    {
     "name": "stdout",
     "output_type": "stream",
     "text": [
      "{'United Kingdom': 2384, 'Bosnia and Herzegovina': 29, 'United States': 10083, 'Ukraine': 246, 'India': 3105, 'New Zealand': 236, 'Canada': 1558, 'Russian Federation': 708, 'Lithuania': 79, 'Colombia': 108, 'Argentina': 191, 'Germany': 2451, 'Serbia': 117, 'Poland': 751, 'Sweden': 496, 'Sri Lanka': 137, 'France': 1054, 'Netherlands': 767, 'Italy': 625, 'Australia': 790, 'Philippines': 117, 'Ireland': 209, 'China': 297, 'Brazil': 767, 'South Korea': 80, 'South Africa': 202, 'Estonia': 82, 'Japan': 182, 'Austria': 338, 'Croatia': 87, 'Finland': 266, 'Bulgaria': 181, 'Malaysia': 95, 'Belarus': 69, 'Spain': 641, 'Bangladesh': 204, 'Greece': 226, 'Latvia': 39, 'Hong Kong (S.A.R.)': 88, 'Portugal': 182, 'United Arab Emirates': 49, 'Norway': 232, 'Turkey': 371, 'Zimbabwe': 14, 'Thailand': 92, 'Denmark': 246, 'Egypt': 111, 'Pakistan': 251, 'Guatemala': 25, 'Israel': 457, 'Ecuador': 39, 'Uganda': 47, 'Cambodia': 9, 'Switzerland': 460, 'Sierra Leone': 1, 'Iran': 268, 'Singapore': 139, 'Nepal': 101, 'Nigeria': 152, 'Mexico': 245, 'Chile': 102, 'Czech Republic': 285, 'Luxembourg': 25, 'Iraq': 17, 'Slovenia': 119, 'Peru': 47, 'Romania': 253, 'Taiwan': 88, 'Hungary': 191, 'Belize': 1, 'Kenya': 120, 'Slovakia': 101, 'Mali': 1, 'Ghana': 32, 'Trinidad and Tobago': 5, 'Indonesia': 148, 'Algeria': 40, 'Morocco': 50, 'El Salvador': 19, 'Turkmenistan': 6, 'Malta': 20, 'Belgium': 296, 'Venezuela, Bolivarian Republic of...': 28, 'Panama': 13, 'Georgia': 26, 'Other Country (Not Listed Above)': 37, 'Sudan': 16, 'Costa Rica': 30, 'Lebanon': 42, 'The former Yugoslav Republic of Macedonia': 8, 'Albania': 23, 'Ethiopia': 20, 'Tunisia': 40, 'Guyana': 2, 'Saudi Arabia': 33, 'Jamaica': 8, 'Fiji': 1, 'Armenia': 28, 'Haiti': 3, 'Benin': 3, 'Namibia': 3, 'Montenegro': 8, 'Viet Nam': 78, 'Nicaragua': 10, 'Rwanda': 5, 'Honduras': 12, 'Republic of Moldova': 7, 'Liechtenstein': 1, 'Qatar': 5, 'Uruguay': 36, 'Jordan': 22, 'Dominican Republic': 21, \"Côte d'Ivoire\": 11, 'Mongolia': 8, 'Paraguay': 19, 'Guinea': 2, 'Maldives': 6, 'Azerbaijan': 17, 'Monaco': 2, 'United Republic of Tanzania': 15, 'Kyrgyzstan': 6, 'Mauritius': 8, 'Mauritania': 5, 'Angola': 2, 'Yemen': 3, 'Cuba': 16, 'Cameroon': 16, 'Cyprus': 20, 'Syrian Arab Republic': 7, 'Congo, Republic of the...': 4, 'Bolivia': 11, 'Kazakhstan': 15, 'Afghanistan': 8, 'Zambia': 4, 'Bahrain': 4, 'Democratic Republic of the Congo': 3, 'Uzbekistan': 14, 'Oman': 6, 'Timor-Leste': 1, 'Myanmar': 9, 'Iceland': 30, 'Republic of Korea': 20, 'Kuwait': 6, 'Niger': 1, 'Dominica': 1, 'Barbados': 1, 'Burundi': 1, 'Libyan Arab Jamahiriya': 2, 'Bahamas': 2, 'Senegal': 8, 'Swaziland': 2, 'Madagascar': 4, 'Bhutan': 1, 'Botswana': 1, 'Somalia': 3, 'Mozambique': 1, 'San Marino': 1, 'Togo': 1, 'Seychelles': 1, 'Sao Tome and Principe': 1, 'Lesotho': 1, \"Democratic People's Republic of Korea\": 1}\n"
     ]
    }
   ],
   "source": [
    "print(d)"
   ]
  },
  {
   "cell_type": "code",
   "execution_count": 17,
   "id": "11f2ce4a",
   "metadata": {},
   "outputs": [],
   "source": [
    "for k,v in d.items():\n",
    "    val = v/df2['Country'].value_counts()[k]\n",
    "    d[k] = val * 100"
   ]
  },
  {
   "cell_type": "code",
   "execution_count": 18,
   "id": "b4342acb",
   "metadata": {},
   "outputs": [
    {
     "name": "stdout",
     "output_type": "stream",
     "text": [
      "{'United Kingdom': 41.89806678383128, 'Bosnia and Herzegovina': 27.358490566037734, 'United States': 48.54831720352448, 'Ukraine': 28.57142857142857, 'India': 35.10854816824966, 'New Zealand': 45.472061657032754, 'Canada': 46.3001485884101, 'Russian Federation': 41.99288256227758, 'Lithuania': 32.37704918032787, 'Colombia': 35.294117647058826, 'Argentina': 34.91773308957952, 'Germany': 42.03395643971874, 'Serbia': 29.620253164556964, 'Poland': 39.381227058206605, 'Sweden': 39.27157561361837, 'Sri Lanka': 37.43169398907104, 'France': 44.397641112047175, 'Netherlands': 41.73014145810664, 'Italy': 40.21879021879022, 'Australia': 42.02127659574468, 'Philippines': 32.40997229916898, 'Ireland': 42.22222222222222, 'China': 46.55172413793103, 'Brazil': 39.740932642487046, 'South Korea': 50.955414012738856, 'South Africa': 32.7922077922078, 'Estonia': 42.487046632124354, 'Japan': 47.02842377260982, 'Austria': 40.625, 'Croatia': 33.72093023255814, 'Finland': 49.35064935064935, 'Bulgaria': 27.846153846153847, 'Malaysia': 32.758620689655174, 'Belarus': 34.15841584158416, 'Spain': 40.36523929471033, 'Bangladesh': 34.63497453310696, 'Greece': 40.94202898550724, 'Latvia': 28.676470588235293, 'Hong Kong (S.A.R.)': 48.08743169398907, 'Portugal': 34.93282149712092, 'United Arab Emirates': 32.02614379084967, 'Norway': 40.845070422535215, 'Turkey': 40.15151515151515, 'Zimbabwe': 35.8974358974359, 'Thailand': 44.66019417475729, 'Denmark': 40.39408866995074, 'Egypt': 35.35031847133758, 'Pakistan': 27.88888888888889, 'Guatemala': 37.878787878787875, 'Israel': 48.41101694915254, 'Ecuador': 48.75, 'Uganda': 65.27777777777779, 'Cambodia': 32.142857142857146, 'Switzerland': 47.325102880658434, 'Sierra Leone': 100.0, 'Iran': 36.66210670314637, 'Singapore': 46.33333333333333, 'Nepal': 45.089285714285715, 'Nigeria': 30.831643002028397, 'Mexico': 38.70458135860979, 'Chile': 50.0, 'Czech Republic': 37.54940711462451, 'Luxembourg': 41.66666666666667, 'Iraq': 47.22222222222222, 'Slovenia': 40.06734006734007, 'Peru': 37.00787401574803, 'Romania': 34.00537634408602, 'Taiwan': 48.08743169398907, 'Hungary': 37.37769080234833, 'Belize': 33.33333333333333, 'Kenya': 50.2092050209205, 'Slovakia': 39.453125, 'Mali': 33.33333333333333, 'Ghana': 39.02439024390244, 'Trinidad and Tobago': 26.31578947368421, 'Indonesia': 30.327868852459016, 'Algeria': 31.746031746031743, 'Morocco': 33.33333333333333, 'El Salvador': 28.35820895522388, 'Turkmenistan': 85.71428571428571, 'Malta': 30.76923076923077, 'Belgium': 41.11111111111111, 'Venezuela, Bolivarian Republic of...': 32.18390804597701, 'Panama': 39.39393939393939, 'Georgia': 32.91139240506329, 'Other Country (Not Listed Above)': 29.599999999999998, 'Sudan': 42.10526315789473, 'Costa Rica': 35.714285714285715, 'Lebanon': 36.206896551724135, 'The former Yugoslav Republic of Macedonia': 15.09433962264151, 'Albania': 27.710843373493976, 'Ethiopia': 43.47826086956522, 'Tunisia': 31.746031746031743, 'Guyana': 66.66666666666666, 'Saudi Arabia': 34.73684210526316, 'Jamaica': 28.57142857142857, 'Fiji': 20.0, 'Armenia': 33.33333333333333, 'Haiti': 60.0, 'Benin': 60.0, 'Namibia': 60.0, 'Montenegro': 47.05882352941176, 'Viet Nam': 35.45454545454545, 'Nicaragua': 33.33333333333333, 'Rwanda': 41.66666666666667, 'Honduras': 46.15384615384615, 'Republic of Moldova': 16.666666666666664, 'Liechtenstein': 33.33333333333333, 'Qatar': 38.46153846153847, 'Uruguay': 32.432432432432435, 'Jordan': 33.84615384615385, 'Dominican Republic': 22.105263157894736, \"Côte d'Ivoire\": 32.35294117647059, 'Mongolia': 47.05882352941176, 'Paraguay': 36.53846153846153, 'Guinea': 66.66666666666666, 'Maldives': 46.15384615384615, 'Azerbaijan': 36.17021276595745, 'Monaco': 50.0, 'United Republic of Tanzania': 48.38709677419355, 'Kyrgyzstan': 31.57894736842105, 'Mauritius': 30.76923076923077, 'Mauritania': 71.42857142857143, 'Angola': 50.0, 'Yemen': 17.647058823529413, 'Cuba': 55.172413793103445, 'Cameroon': 32.0, 'Cyprus': 32.25806451612903, 'Syrian Arab Republic': 25.0, 'Congo, Republic of the...': 57.14285714285714, 'Bolivia': 32.35294117647059, 'Kazakhstan': 23.4375, 'Afghanistan': 20.51282051282051, 'Zambia': 33.33333333333333, 'Bahrain': 22.22222222222222, 'Democratic Republic of the Congo': 42.857142857142854, 'Uzbekistan': 35.8974358974359, 'Oman': 54.54545454545454, 'Timor-Leste': 100.0, 'Myanmar': 19.565217391304348, 'Iceland': 62.5, 'Republic of Korea': 54.054054054054056, 'Kuwait': 30.0, 'Niger': 100.0, 'Dominica': 100.0, 'Barbados': 50.0, 'Burundi': 33.33333333333333, 'Libyan Arab Jamahiriya': 20.0, 'Bahamas': 66.66666666666666, 'Senegal': 38.095238095238095, 'Swaziland': 25.0, 'Madagascar': 28.57142857142857, 'Bhutan': 50.0, 'Botswana': 20.0, 'Somalia': 25.0, 'Mozambique': 14.285714285714285, 'San Marino': 50.0, 'Togo': 25.0, 'Seychelles': 50.0, 'Sao Tome and Principe': 100.0, 'Lesotho': 33.33333333333333, \"Democratic People's Republic of Korea\": 50.0}\n"
     ]
    }
   ],
   "source": [
    "print(d)"
   ]
  },
  {
   "cell_type": "code",
   "execution_count": 19,
   "id": "ef176c40",
   "metadata": {},
   "outputs": [],
   "source": [
    "def getavg(val):\n",
    "    print(d[val])"
   ]
  },
  {
   "cell_type": "code",
   "execution_count": 20,
   "id": "0565e3f9",
   "metadata": {},
   "outputs": [
    {
     "name": "stdout",
     "output_type": "stream",
     "text": [
      "35.10854816824966\n"
     ]
    }
   ],
   "source": [
    "getavg(df2['Country'].iloc[76])"
   ]
  },
  {
   "cell_type": "markdown",
   "id": "516446ab",
   "metadata": {},
   "source": [
    "## 3. Generate the report for the average salary of developers based on the continent."
   ]
  },
  {
   "cell_type": "code",
   "execution_count": 21,
   "id": "cf5a09e2",
   "metadata": {},
   "outputs": [],
   "source": [
    "df3 = df.dropna(subset=['Country'])"
   ]
  },
  {
   "cell_type": "code",
   "execution_count": 22,
   "id": "e2f83792",
   "metadata": {},
   "outputs": [
    {
     "data": {
      "text/plain": [
       "False"
      ]
     },
     "execution_count": 22,
     "metadata": {},
     "output_type": "execute_result"
    }
   ],
   "source": [
    "df3['Country'].isnull().values.any()"
   ]
  },
  {
   "cell_type": "code",
   "execution_count": 43,
   "id": "63a96c6d",
   "metadata": {},
   "outputs": [
    {
     "data": {
      "text/plain": [
       "False"
      ]
     },
     "execution_count": 43,
     "metadata": {},
     "output_type": "execute_result"
    }
   ],
   "source": [
    "df3['ConvertedComp'].isnull().values.any()"
   ]
  },
  {
   "cell_type": "code",
   "execution_count": null,
   "id": "6b315426",
   "metadata": {},
   "outputs": [],
   "source": [
    "pip install pycountry"
   ]
  },
  {
   "cell_type": "code",
   "execution_count": null,
   "id": "458b5327",
   "metadata": {},
   "outputs": [],
   "source": [
    "pip install pycountry-convert"
   ]
  },
  {
   "cell_type": "code",
   "execution_count": 26,
   "id": "db04bd39",
   "metadata": {},
   "outputs": [],
   "source": [
    "import pycountry_convert as pc\n",
    "\n",
    "def country_to_continent(country_name):\n",
    "    if country_name == \"Timor-Leste\":\n",
    "        return \"Asia\"\n",
    "    country_alpha2 = pc.country_name_to_country_alpha2(country_name)\n",
    "    country_continent_code = pc.country_alpha2_to_continent_code(country_alpha2)\n",
    "    country_continent_name = pc.convert_continent_code_to_continent_name(country_continent_code)\n",
    "    return country_continent_name"
   ]
  },
  {
   "cell_type": "code",
   "execution_count": 25,
   "id": "e5f66c15",
   "metadata": {},
   "outputs": [],
   "source": [
    "df3.insert(len(df3.columns),\"Continent\",0)"
   ]
  },
  {
   "cell_type": "code",
   "execution_count": 33,
   "id": "502fd330",
   "metadata": {},
   "outputs": [
    {
     "name": "stderr",
     "output_type": "stream",
     "text": [
      "C:\\Users\\SVsre\\AppData\\Local\\Temp\\ipykernel_22204\\4147462114.py:5: SettingWithCopyWarning: \n",
      "A value is trying to be set on a copy of a slice from a DataFrame\n",
      "\n",
      "See the caveats in the documentation: https://pandas.pydata.org/pandas-docs/stable/user_guide/indexing.html#returning-a-view-versus-a-copy\n",
      "  df3['Continent'].iloc[i] = country_to_continent(df3['Country'].iloc[i])\n",
      "C:\\Users\\SVsre\\AppData\\Local\\Temp\\ipykernel_22204\\4147462114.py:3: SettingWithCopyWarning: \n",
      "A value is trying to be set on a copy of a slice from a DataFrame\n",
      "\n",
      "See the caveats in the documentation: https://pandas.pydata.org/pandas-docs/stable/user_guide/indexing.html#returning-a-view-versus-a-copy\n",
      "  df3['Continent'].iloc[i] = \"other\"\n"
     ]
    }
   ],
   "source": [
    "for i in range(len(df3['Country'])):\n",
    "    if df3['Country'].iloc[i] == 'Other Country (Not Listed Above)':\n",
    "        df3['Continent'].iloc[i] = \"other\"\n",
    "    else:\n",
    "        df3['Continent'].iloc[i] = country_to_continent(df3['Country'].iloc[i])"
   ]
  },
  {
   "cell_type": "code",
   "execution_count": 34,
   "id": "34f08725",
   "metadata": {},
   "outputs": [
    {
     "data": {
      "text/plain": [
       "array(['Asia', 'North America', 'Oceania', 'Europe', 'South America',\n",
       "       'Africa', 'other'], dtype=object)"
      ]
     },
     "execution_count": 34,
     "metadata": {},
     "output_type": "execute_result"
    }
   ],
   "source": [
    "df3['Continent'].unique()"
   ]
  },
  {
   "cell_type": "code",
   "execution_count": 27,
   "id": "ccdddac6",
   "metadata": {
    "scrolled": true
   },
   "outputs": [
    {
     "name": "stderr",
     "output_type": "stream",
     "text": [
      "C:\\Users\\SVsre\\AppData\\Local\\Temp\\ipykernel_22204\\4153090026.py:1: SettingWithCopyWarning: \n",
      "A value is trying to be set on a copy of a slice from a DataFrame\n",
      "\n",
      "See the caveats in the documentation: https://pandas.pydata.org/pandas-docs/stable/user_guide/indexing.html#returning-a-view-versus-a-copy\n",
      "  df3['Country'].replace(\"Hong Kong (S.A.R.)\", \"Hong Kong\", inplace=True)\n"
     ]
    }
   ],
   "source": [
    "df3['Country'].replace(\"Hong Kong (S.A.R.)\", \"Hong Kong\", inplace=True)"
   ]
  },
  {
   "cell_type": "code",
   "execution_count": 28,
   "id": "eb7ea802",
   "metadata": {},
   "outputs": [
    {
     "name": "stderr",
     "output_type": "stream",
     "text": [
      "C:\\Users\\SVsre\\AppData\\Local\\Temp\\ipykernel_22204\\2749182102.py:1: SettingWithCopyWarning: \n",
      "A value is trying to be set on a copy of a slice from a DataFrame\n",
      "\n",
      "See the caveats in the documentation: https://pandas.pydata.org/pandas-docs/stable/user_guide/indexing.html#returning-a-view-versus-a-copy\n",
      "  df3['Country'].replace(\"Venezuela, Bolivarian Republic of...\", \"Venezuela\", inplace=True)\n"
     ]
    }
   ],
   "source": [
    "df3['Country'].replace(\"Venezuela, Bolivarian Republic of...\", \"Venezuela\", inplace=True)"
   ]
  },
  {
   "cell_type": "code",
   "execution_count": 29,
   "id": "6eac3c6a",
   "metadata": {},
   "outputs": [
    {
     "name": "stderr",
     "output_type": "stream",
     "text": [
      "C:\\Users\\SVsre\\AppData\\Local\\Temp\\ipykernel_22204\\1949587372.py:1: SettingWithCopyWarning: \n",
      "A value is trying to be set on a copy of a slice from a DataFrame\n",
      "\n",
      "See the caveats in the documentation: https://pandas.pydata.org/pandas-docs/stable/user_guide/indexing.html#returning-a-view-versus-a-copy\n",
      "  df3['Country'].replace(\"The former Yugoslav Republic of Macedonia\", \"Macedonia\", inplace=True)\n"
     ]
    }
   ],
   "source": [
    "df3['Country'].replace(\"The former Yugoslav Republic of Macedonia\", \"Macedonia\", inplace=True)"
   ]
  },
  {
   "cell_type": "code",
   "execution_count": 30,
   "id": "27bd90f1",
   "metadata": {},
   "outputs": [
    {
     "name": "stderr",
     "output_type": "stream",
     "text": [
      "C:\\Users\\SVsre\\AppData\\Local\\Temp\\ipykernel_22204\\1067643964.py:1: SettingWithCopyWarning: \n",
      "A value is trying to be set on a copy of a slice from a DataFrame\n",
      "\n",
      "See the caveats in the documentation: https://pandas.pydata.org/pandas-docs/stable/user_guide/indexing.html#returning-a-view-versus-a-copy\n",
      "  df3['Country'].replace(\"Libyan Arab Jamahiriya\", \"Libya\", inplace=True)\n"
     ]
    }
   ],
   "source": [
    "df3['Country'].replace(\"Libyan Arab Jamahiriya\", \"Libya\", inplace=True)"
   ]
  },
  {
   "cell_type": "code",
   "execution_count": 31,
   "id": "371c9be4",
   "metadata": {
    "scrolled": true
   },
   "outputs": [
    {
     "name": "stderr",
     "output_type": "stream",
     "text": [
      "C:\\Users\\SVsre\\AppData\\Local\\Temp\\ipykernel_22204\\1043829597.py:1: SettingWithCopyWarning: \n",
      "A value is trying to be set on a copy of a slice from a DataFrame\n",
      "\n",
      "See the caveats in the documentation: https://pandas.pydata.org/pandas-docs/stable/user_guide/indexing.html#returning-a-view-versus-a-copy\n",
      "  df3['Country'].replace(\"Republic of Korea\", \"South Korea\", inplace=True)\n"
     ]
    }
   ],
   "source": [
    "df3['Country'].replace(\"Republic of Korea\", \"South Korea\", inplace=True)"
   ]
  },
  {
   "cell_type": "code",
   "execution_count": 32,
   "id": "d144e13a",
   "metadata": {},
   "outputs": [
    {
     "name": "stderr",
     "output_type": "stream",
     "text": [
      "C:\\Users\\SVsre\\AppData\\Local\\Temp\\ipykernel_22204\\181206381.py:1: SettingWithCopyWarning: \n",
      "A value is trying to be set on a copy of a slice from a DataFrame\n",
      "\n",
      "See the caveats in the documentation: https://pandas.pydata.org/pandas-docs/stable/user_guide/indexing.html#returning-a-view-versus-a-copy\n",
      "  df3['Country'].replace(\"Congo, Republic of the...\", \"Congo\", inplace=True)\n"
     ]
    }
   ],
   "source": [
    "df3['Country'].replace(\"Congo, Republic of the...\", \"Congo\", inplace=True)"
   ]
  },
  {
   "cell_type": "code",
   "execution_count": 35,
   "id": "9ecf3556",
   "metadata": {},
   "outputs": [
    {
     "data": {
      "text/html": [
       "<div>\n",
       "<style scoped>\n",
       "    .dataframe tbody tr th:only-of-type {\n",
       "        vertical-align: middle;\n",
       "    }\n",
       "\n",
       "    .dataframe tbody tr th {\n",
       "        vertical-align: top;\n",
       "    }\n",
       "\n",
       "    .dataframe thead th {\n",
       "        text-align: right;\n",
       "    }\n",
       "</style>\n",
       "<table border=\"1\" class=\"dataframe\">\n",
       "  <thead>\n",
       "    <tr style=\"text-align: right;\">\n",
       "      <th></th>\n",
       "      <th>Respondent</th>\n",
       "      <th>MainBranch</th>\n",
       "      <th>Hobbyist</th>\n",
       "      <th>OpenSourcer</th>\n",
       "      <th>OpenSource</th>\n",
       "      <th>Employment</th>\n",
       "      <th>Country</th>\n",
       "      <th>Student</th>\n",
       "      <th>EdLevel</th>\n",
       "      <th>UndergradMajor</th>\n",
       "      <th>...</th>\n",
       "      <th>SONewContent</th>\n",
       "      <th>Age</th>\n",
       "      <th>Gender</th>\n",
       "      <th>Trans</th>\n",
       "      <th>Sexuality</th>\n",
       "      <th>Ethnicity</th>\n",
       "      <th>Dependents</th>\n",
       "      <th>SurveyLength</th>\n",
       "      <th>SurveyEase</th>\n",
       "      <th>Continent</th>\n",
       "    </tr>\n",
       "  </thead>\n",
       "  <tbody>\n",
       "    <tr>\n",
       "      <th>2</th>\n",
       "      <td>3</td>\n",
       "      <td>I am not primarily a developer, but I write co...</td>\n",
       "      <td>Yes</td>\n",
       "      <td>Never</td>\n",
       "      <td>The quality of OSS and closed source software ...</td>\n",
       "      <td>Employed full-time</td>\n",
       "      <td>Thailand</td>\n",
       "      <td>No</td>\n",
       "      <td>Bachelor’s degree (BA, BS, B.Eng., etc.)</td>\n",
       "      <td>Web development or web design</td>\n",
       "      <td>...</td>\n",
       "      <td>Tech meetups or events in your area;Courses on...</td>\n",
       "      <td>28.0</td>\n",
       "      <td>Man</td>\n",
       "      <td>No</td>\n",
       "      <td>Straight / Heterosexual</td>\n",
       "      <td>NaN</td>\n",
       "      <td>Yes</td>\n",
       "      <td>Appropriate in length</td>\n",
       "      <td>Neither easy nor difficult</td>\n",
       "      <td>Asia</td>\n",
       "    </tr>\n",
       "    <tr>\n",
       "      <th>3</th>\n",
       "      <td>4</td>\n",
       "      <td>I am a developer by profession</td>\n",
       "      <td>No</td>\n",
       "      <td>Never</td>\n",
       "      <td>The quality of OSS and closed source software ...</td>\n",
       "      <td>Employed full-time</td>\n",
       "      <td>United States</td>\n",
       "      <td>No</td>\n",
       "      <td>Bachelor’s degree (BA, BS, B.Eng., etc.)</td>\n",
       "      <td>Computer science, computer engineering, or sof...</td>\n",
       "      <td>...</td>\n",
       "      <td>Tech articles written by other developers;Indu...</td>\n",
       "      <td>22.0</td>\n",
       "      <td>Man</td>\n",
       "      <td>No</td>\n",
       "      <td>Straight / Heterosexual</td>\n",
       "      <td>White or of European descent</td>\n",
       "      <td>No</td>\n",
       "      <td>Appropriate in length</td>\n",
       "      <td>Easy</td>\n",
       "      <td>North America</td>\n",
       "    </tr>\n",
       "    <tr>\n",
       "      <th>5</th>\n",
       "      <td>6</td>\n",
       "      <td>I am not primarily a developer, but I write co...</td>\n",
       "      <td>Yes</td>\n",
       "      <td>Never</td>\n",
       "      <td>The quality of OSS and closed source software ...</td>\n",
       "      <td>Employed full-time</td>\n",
       "      <td>Canada</td>\n",
       "      <td>No</td>\n",
       "      <td>Bachelor’s degree (BA, BS, B.Eng., etc.)</td>\n",
       "      <td>Mathematics or statistics</td>\n",
       "      <td>...</td>\n",
       "      <td>Tech articles written by other developers;Indu...</td>\n",
       "      <td>28.0</td>\n",
       "      <td>Man</td>\n",
       "      <td>No</td>\n",
       "      <td>Straight / Heterosexual</td>\n",
       "      <td>East Asian</td>\n",
       "      <td>No</td>\n",
       "      <td>Too long</td>\n",
       "      <td>Neither easy nor difficult</td>\n",
       "      <td>North America</td>\n",
       "    </tr>\n",
       "    <tr>\n",
       "      <th>8</th>\n",
       "      <td>9</td>\n",
       "      <td>I am a developer by profession</td>\n",
       "      <td>Yes</td>\n",
       "      <td>Once a month or more often</td>\n",
       "      <td>The quality of OSS and closed source software ...</td>\n",
       "      <td>Employed full-time</td>\n",
       "      <td>New Zealand</td>\n",
       "      <td>No</td>\n",
       "      <td>Some college/university study without earning ...</td>\n",
       "      <td>Computer science, computer engineering, or sof...</td>\n",
       "      <td>...</td>\n",
       "      <td>NaN</td>\n",
       "      <td>23.0</td>\n",
       "      <td>Man</td>\n",
       "      <td>No</td>\n",
       "      <td>Bisexual</td>\n",
       "      <td>White or of European descent</td>\n",
       "      <td>No</td>\n",
       "      <td>Appropriate in length</td>\n",
       "      <td>Neither easy nor difficult</td>\n",
       "      <td>Oceania</td>\n",
       "    </tr>\n",
       "    <tr>\n",
       "      <th>9</th>\n",
       "      <td>10</td>\n",
       "      <td>I am a developer by profession</td>\n",
       "      <td>Yes</td>\n",
       "      <td>Once a month or more often</td>\n",
       "      <td>OSS is, on average, of HIGHER quality than pro...</td>\n",
       "      <td>Employed full-time</td>\n",
       "      <td>India</td>\n",
       "      <td>No</td>\n",
       "      <td>Master’s degree (MA, MS, M.Eng., MBA, etc.)</td>\n",
       "      <td>NaN</td>\n",
       "      <td>...</td>\n",
       "      <td>Tech articles written by other developers;Tech...</td>\n",
       "      <td>NaN</td>\n",
       "      <td>NaN</td>\n",
       "      <td>NaN</td>\n",
       "      <td>NaN</td>\n",
       "      <td>NaN</td>\n",
       "      <td>Yes</td>\n",
       "      <td>Too long</td>\n",
       "      <td>Difficult</td>\n",
       "      <td>Asia</td>\n",
       "    </tr>\n",
       "  </tbody>\n",
       "</table>\n",
       "<p>5 rows × 86 columns</p>\n",
       "</div>"
      ],
      "text/plain": [
       "   Respondent                                         MainBranch Hobbyist  \\\n",
       "2           3  I am not primarily a developer, but I write co...      Yes   \n",
       "3           4                     I am a developer by profession       No   \n",
       "5           6  I am not primarily a developer, but I write co...      Yes   \n",
       "8           9                     I am a developer by profession      Yes   \n",
       "9          10                     I am a developer by profession      Yes   \n",
       "\n",
       "                  OpenSourcer  \\\n",
       "2                       Never   \n",
       "3                       Never   \n",
       "5                       Never   \n",
       "8  Once a month or more often   \n",
       "9  Once a month or more often   \n",
       "\n",
       "                                          OpenSource          Employment  \\\n",
       "2  The quality of OSS and closed source software ...  Employed full-time   \n",
       "3  The quality of OSS and closed source software ...  Employed full-time   \n",
       "5  The quality of OSS and closed source software ...  Employed full-time   \n",
       "8  The quality of OSS and closed source software ...  Employed full-time   \n",
       "9  OSS is, on average, of HIGHER quality than pro...  Employed full-time   \n",
       "\n",
       "         Country Student                                            EdLevel  \\\n",
       "2       Thailand      No           Bachelor’s degree (BA, BS, B.Eng., etc.)   \n",
       "3  United States      No           Bachelor’s degree (BA, BS, B.Eng., etc.)   \n",
       "5         Canada      No           Bachelor’s degree (BA, BS, B.Eng., etc.)   \n",
       "8    New Zealand      No  Some college/university study without earning ...   \n",
       "9          India      No        Master’s degree (MA, MS, M.Eng., MBA, etc.)   \n",
       "\n",
       "                                      UndergradMajor  ...  \\\n",
       "2                      Web development or web design  ...   \n",
       "3  Computer science, computer engineering, or sof...  ...   \n",
       "5                          Mathematics or statistics  ...   \n",
       "8  Computer science, computer engineering, or sof...  ...   \n",
       "9                                                NaN  ...   \n",
       "\n",
       "                                        SONewContent   Age Gender Trans  \\\n",
       "2  Tech meetups or events in your area;Courses on...  28.0    Man    No   \n",
       "3  Tech articles written by other developers;Indu...  22.0    Man    No   \n",
       "5  Tech articles written by other developers;Indu...  28.0    Man    No   \n",
       "8                                                NaN  23.0    Man    No   \n",
       "9  Tech articles written by other developers;Tech...   NaN    NaN   NaN   \n",
       "\n",
       "                 Sexuality                     Ethnicity Dependents  \\\n",
       "2  Straight / Heterosexual                           NaN        Yes   \n",
       "3  Straight / Heterosexual  White or of European descent         No   \n",
       "5  Straight / Heterosexual                    East Asian         No   \n",
       "8                 Bisexual  White or of European descent         No   \n",
       "9                      NaN                           NaN        Yes   \n",
       "\n",
       "            SurveyLength                  SurveyEase      Continent  \n",
       "2  Appropriate in length  Neither easy nor difficult           Asia  \n",
       "3  Appropriate in length                        Easy  North America  \n",
       "5               Too long  Neither easy nor difficult  North America  \n",
       "8  Appropriate in length  Neither easy nor difficult        Oceania  \n",
       "9               Too long                   Difficult           Asia  \n",
       "\n",
       "[5 rows x 86 columns]"
      ]
     },
     "execution_count": 35,
     "metadata": {},
     "output_type": "execute_result"
    }
   ],
   "source": [
    "df3.head()"
   ]
  },
  {
   "cell_type": "code",
   "execution_count": 36,
   "id": "9e5e7220",
   "metadata": {},
   "outputs": [],
   "source": [
    "d2 = {}"
   ]
  },
  {
   "cell_type": "code",
   "execution_count": 37,
   "id": "bdbd65de",
   "metadata": {},
   "outputs": [],
   "source": [
    "for i in range(len(df3['Continent'])):\n",
    "    if df3['Continent'].iloc[i] not in d2:\n",
    "        d2[df3['Continent'].iloc[i]] = df3['ConvertedComp'].iloc[i]\n",
    "    else:\n",
    "        d2[df3['Continent'].iloc[i]] += df3['ConvertedComp'].iloc[i]"
   ]
  },
  {
   "cell_type": "code",
   "execution_count": 38,
   "id": "d951041d",
   "metadata": {},
   "outputs": [],
   "source": [
    "for k,v in d2.items():\n",
    "    val = v/df3['Continent'].value_counts()[k]\n",
    "    d2[k] = val"
   ]
  },
  {
   "cell_type": "code",
   "execution_count": 39,
   "id": "c6785c8d",
   "metadata": {},
   "outputs": [
    {
     "name": "stdout",
     "output_type": "stream",
     "text": [
      "{'Asia': 37768.54954329981, 'North America': 225667.24741810106, 'Oceania': 166950.95579078456, 'Europe': 97042.15751810069, 'South America': 32691.80112721417, 'Africa': 35045.78281622912, 'other': 99339.80327868853}\n"
     ]
    }
   ],
   "source": [
    "print(d2)"
   ]
  },
  {
   "cell_type": "markdown",
   "id": "8febc1e7",
   "metadata": {},
   "source": [
    "## 5. Generate the report for the people who code as a hobby based on their gender and continent. "
   ]
  },
  {
   "cell_type": "code",
   "execution_count": 158,
   "id": "c3262b6d",
   "metadata": {},
   "outputs": [
    {
     "name": "stderr",
     "output_type": "stream",
     "text": [
      "C:\\Users\\SVsre\\AppData\\Local\\Temp\\ipykernel_22204\\4101178139.py:1: SettingWithCopyWarning: \n",
      "A value is trying to be set on a copy of a slice from a DataFrame\n",
      "\n",
      "See the caveats in the documentation: https://pandas.pydata.org/pandas-docs/stable/user_guide/indexing.html#returning-a-view-versus-a-copy\n",
      "  df3.dropna(subset=['Hobbyist'],inplace = True)\n",
      "C:\\Users\\SVsre\\AppData\\Local\\Temp\\ipykernel_22204\\4101178139.py:2: SettingWithCopyWarning: \n",
      "A value is trying to be set on a copy of a slice from a DataFrame\n",
      "\n",
      "See the caveats in the documentation: https://pandas.pydata.org/pandas-docs/stable/user_guide/indexing.html#returning-a-view-versus-a-copy\n",
      "  df3.dropna(subset=['Gender'],inplace = True)\n"
     ]
    }
   ],
   "source": [
    "df3.dropna(subset=['Hobbyist'],inplace = True)\n",
    "df3.dropna(subset=['Gender'],inplace = True)"
   ]
  },
  {
   "cell_type": "code",
   "execution_count": 159,
   "id": "c3c4252c",
   "metadata": {},
   "outputs": [
    {
     "data": {
      "text/plain": [
       "False"
      ]
     },
     "execution_count": 159,
     "metadata": {},
     "output_type": "execute_result"
    }
   ],
   "source": [
    "df3['Hobbyist'].isnull().values.any()"
   ]
  },
  {
   "cell_type": "code",
   "execution_count": 160,
   "id": "339c72a4",
   "metadata": {},
   "outputs": [
    {
     "data": {
      "text/plain": [
       "False"
      ]
     },
     "execution_count": 160,
     "metadata": {},
     "output_type": "execute_result"
    }
   ],
   "source": [
    "df3['Gender'].isnull().values.any()"
   ]
  },
  {
   "cell_type": "code",
   "execution_count": 161,
   "id": "68639cc2",
   "metadata": {},
   "outputs": [],
   "source": [
    "d3 = {}\n",
    "for i in range(len(df3['Hobbyist'])):\n",
    "    if df3['Hobbyist'].iloc[i] == \"Yes\":\n",
    "        if df3[\"Continent\"].iloc[i] not in d3:\n",
    "            d3[df3[\"Continent\"].iloc[i]] = {\"Woman\" : 0,\"Man\" : 0,\"Others\":0}\n",
    "            if df3[\"Gender\"].iloc[i] == \"Woman\":\n",
    "                d3[df3[\"Continent\"].iloc[i]][\"Woman\"] += 1\n",
    "            elif df3[\"Gender\"].iloc[i] == \"Man\":\n",
    "                d3[df3[\"Continent\"].iloc[i]][\"Man\"] += 1\n",
    "            else:\n",
    "                d3[df3[\"Continent\"].iloc[i]][\"Others\"] += 1\n",
    "        else:\n",
    "            if df3[\"Gender\"].iloc[i] == \"Woman\":\n",
    "                d3[df3[\"Continent\"].iloc[i]][\"Woman\"] += 1\n",
    "            elif df3[\"Gender\"].iloc[i] == \"Man\":\n",
    "                d3[df3[\"Continent\"].iloc[i]][\"Man\"] += 1\n",
    "            else:\n",
    "                d3[df3[\"Continent\"].iloc[i]][\"Others\"] += 1"
   ]
  },
  {
   "cell_type": "code",
   "execution_count": 162,
   "id": "6eb615b7",
   "metadata": {},
   "outputs": [
    {
     "data": {
      "text/plain": [
       "{'Asia': {'Woman': 274, 'Man': 6155, 'Others': 53},\n",
       " 'North America': {'Woman': 975, 'Man': 12702, 'Others': 234},\n",
       " 'Oceania': {'Woman': 58, 'Man': 1211, 'Others': 22},\n",
       " 'Europe': {'Woman': 846, 'Man': 17934, 'Others': 170},\n",
       " 'South America': {'Woman': 71, 'Man': 1758, 'Others': 10},\n",
       " 'Africa': {'Woman': 49, 'Man': 882, 'Others': 10},\n",
       " 'other': {'Woman': 2, 'Man': 37, 'Others': 1}}"
      ]
     },
     "execution_count": 162,
     "metadata": {},
     "output_type": "execute_result"
    }
   ],
   "source": [
    "d3"
   ]
  },
  {
   "cell_type": "code",
   "execution_count": 163,
   "id": "f0dfb48a",
   "metadata": {},
   "outputs": [],
   "source": [
    "reformed_dict = {}\n",
    "for outerKey, innerDict in d3.items():\n",
    "    for innerKey, values in innerDict.items():\n",
    "        reformed_dict[(outerKey,\n",
    "                       innerKey)] = values"
   ]
  },
  {
   "cell_type": "code",
   "execution_count": 164,
   "id": "fa914266",
   "metadata": {},
   "outputs": [
    {
     "data": {
      "text/plain": [
       "{('Asia', 'Woman'): 274,\n",
       " ('Asia', 'Man'): 6155,\n",
       " ('Asia', 'Others'): 53,\n",
       " ('North America', 'Woman'): 975,\n",
       " ('North America', 'Man'): 12702,\n",
       " ('North America', 'Others'): 234,\n",
       " ('Oceania', 'Woman'): 58,\n",
       " ('Oceania', 'Man'): 1211,\n",
       " ('Oceania', 'Others'): 22,\n",
       " ('Europe', 'Woman'): 846,\n",
       " ('Europe', 'Man'): 17934,\n",
       " ('Europe', 'Others'): 170,\n",
       " ('South America', 'Woman'): 71,\n",
       " ('South America', 'Man'): 1758,\n",
       " ('South America', 'Others'): 10,\n",
       " ('Africa', 'Woman'): 49,\n",
       " ('Africa', 'Man'): 882,\n",
       " ('Africa', 'Others'): 10,\n",
       " ('other', 'Woman'): 2,\n",
       " ('other', 'Man'): 37,\n",
       " ('other', 'Others'): 1}"
      ]
     },
     "execution_count": 164,
     "metadata": {},
     "output_type": "execute_result"
    }
   ],
   "source": [
    "reformed_dict "
   ]
  },
  {
   "cell_type": "code",
   "execution_count": 165,
   "id": "7aa80434",
   "metadata": {},
   "outputs": [
    {
     "data": {
      "text/html": [
       "<div>\n",
       "<style scoped>\n",
       "    .dataframe tbody tr th:only-of-type {\n",
       "        vertical-align: middle;\n",
       "    }\n",
       "\n",
       "    .dataframe tbody tr th {\n",
       "        vertical-align: top;\n",
       "    }\n",
       "\n",
       "    .dataframe thead th {\n",
       "        text-align: right;\n",
       "    }\n",
       "</style>\n",
       "<table border=\"1\" class=\"dataframe\">\n",
       "  <thead>\n",
       "    <tr style=\"text-align: right;\">\n",
       "      <th></th>\n",
       "      <th>(Asia, Woman)</th>\n",
       "      <th>(Asia, Man)</th>\n",
       "      <th>(Asia, Others)</th>\n",
       "      <th>(North America, Woman)</th>\n",
       "      <th>(North America, Man)</th>\n",
       "      <th>(North America, Others)</th>\n",
       "      <th>(Oceania, Woman)</th>\n",
       "      <th>(Oceania, Man)</th>\n",
       "      <th>(Oceania, Others)</th>\n",
       "      <th>(Europe, Woman)</th>\n",
       "      <th>...</th>\n",
       "      <th>(Europe, Others)</th>\n",
       "      <th>(South America, Woman)</th>\n",
       "      <th>(South America, Man)</th>\n",
       "      <th>(South America, Others)</th>\n",
       "      <th>(Africa, Woman)</th>\n",
       "      <th>(Africa, Man)</th>\n",
       "      <th>(Africa, Others)</th>\n",
       "      <th>(other, Woman)</th>\n",
       "      <th>(other, Man)</th>\n",
       "      <th>(other, Others)</th>\n",
       "    </tr>\n",
       "  </thead>\n",
       "  <tbody>\n",
       "    <tr>\n",
       "      <th>0</th>\n",
       "      <td>274</td>\n",
       "      <td>6155</td>\n",
       "      <td>53</td>\n",
       "      <td>975</td>\n",
       "      <td>12702</td>\n",
       "      <td>234</td>\n",
       "      <td>58</td>\n",
       "      <td>1211</td>\n",
       "      <td>22</td>\n",
       "      <td>846</td>\n",
       "      <td>...</td>\n",
       "      <td>170</td>\n",
       "      <td>71</td>\n",
       "      <td>1758</td>\n",
       "      <td>10</td>\n",
       "      <td>49</td>\n",
       "      <td>882</td>\n",
       "      <td>10</td>\n",
       "      <td>2</td>\n",
       "      <td>37</td>\n",
       "      <td>1</td>\n",
       "    </tr>\n",
       "  </tbody>\n",
       "</table>\n",
       "<p>1 rows × 21 columns</p>\n",
       "</div>"
      ],
      "text/plain": [
       "   (Asia, Woman)  (Asia, Man)  (Asia, Others)  (North America, Woman)  \\\n",
       "0            274         6155              53                     975   \n",
       "\n",
       "   (North America, Man)  (North America, Others)  (Oceania, Woman)  \\\n",
       "0                 12702                      234                58   \n",
       "\n",
       "   (Oceania, Man)  (Oceania, Others)  (Europe, Woman)  ...  (Europe, Others)  \\\n",
       "0            1211                 22              846  ...               170   \n",
       "\n",
       "   (South America, Woman)  (South America, Man)  (South America, Others)  \\\n",
       "0                      71                  1758                       10   \n",
       "\n",
       "   (Africa, Woman)  (Africa, Man)  (Africa, Others)  (other, Woman)  \\\n",
       "0               49            882                10               2   \n",
       "\n",
       "   (other, Man)  (other, Others)  \n",
       "0            37                1  \n",
       "\n",
       "[1 rows x 21 columns]"
      ]
     },
     "execution_count": 165,
     "metadata": {},
     "output_type": "execute_result"
    }
   ],
   "source": [
    "multiIndex_df = pd.DataFrame([reformed_dict])\n",
    "multiIndex_df"
   ]
  },
  {
   "cell_type": "code",
   "execution_count": 166,
   "id": "996486da",
   "metadata": {},
   "outputs": [
    {
     "data": {
      "text/html": [
       "<div>\n",
       "<style scoped>\n",
       "    .dataframe tbody tr th:only-of-type {\n",
       "        vertical-align: middle;\n",
       "    }\n",
       "\n",
       "    .dataframe tbody tr th {\n",
       "        vertical-align: top;\n",
       "    }\n",
       "\n",
       "    .dataframe thead th {\n",
       "        text-align: right;\n",
       "    }\n",
       "</style>\n",
       "<table border=\"1\" class=\"dataframe\">\n",
       "  <thead>\n",
       "    <tr style=\"text-align: right;\">\n",
       "      <th></th>\n",
       "      <th>0</th>\n",
       "    </tr>\n",
       "  </thead>\n",
       "  <tbody>\n",
       "    <tr>\n",
       "      <th>(Asia, Woman)</th>\n",
       "      <td>274</td>\n",
       "    </tr>\n",
       "    <tr>\n",
       "      <th>(Asia, Man)</th>\n",
       "      <td>6155</td>\n",
       "    </tr>\n",
       "    <tr>\n",
       "      <th>(Asia, Others)</th>\n",
       "      <td>53</td>\n",
       "    </tr>\n",
       "    <tr>\n",
       "      <th>(North America, Woman)</th>\n",
       "      <td>975</td>\n",
       "    </tr>\n",
       "    <tr>\n",
       "      <th>(North America, Man)</th>\n",
       "      <td>12702</td>\n",
       "    </tr>\n",
       "    <tr>\n",
       "      <th>(North America, Others)</th>\n",
       "      <td>234</td>\n",
       "    </tr>\n",
       "    <tr>\n",
       "      <th>(Oceania, Woman)</th>\n",
       "      <td>58</td>\n",
       "    </tr>\n",
       "    <tr>\n",
       "      <th>(Oceania, Man)</th>\n",
       "      <td>1211</td>\n",
       "    </tr>\n",
       "    <tr>\n",
       "      <th>(Oceania, Others)</th>\n",
       "      <td>22</td>\n",
       "    </tr>\n",
       "    <tr>\n",
       "      <th>(Europe, Woman)</th>\n",
       "      <td>846</td>\n",
       "    </tr>\n",
       "    <tr>\n",
       "      <th>(Europe, Man)</th>\n",
       "      <td>17934</td>\n",
       "    </tr>\n",
       "    <tr>\n",
       "      <th>(Europe, Others)</th>\n",
       "      <td>170</td>\n",
       "    </tr>\n",
       "    <tr>\n",
       "      <th>(South America, Woman)</th>\n",
       "      <td>71</td>\n",
       "    </tr>\n",
       "    <tr>\n",
       "      <th>(South America, Man)</th>\n",
       "      <td>1758</td>\n",
       "    </tr>\n",
       "    <tr>\n",
       "      <th>(South America, Others)</th>\n",
       "      <td>10</td>\n",
       "    </tr>\n",
       "    <tr>\n",
       "      <th>(Africa, Woman)</th>\n",
       "      <td>49</td>\n",
       "    </tr>\n",
       "    <tr>\n",
       "      <th>(Africa, Man)</th>\n",
       "      <td>882</td>\n",
       "    </tr>\n",
       "    <tr>\n",
       "      <th>(Africa, Others)</th>\n",
       "      <td>10</td>\n",
       "    </tr>\n",
       "    <tr>\n",
       "      <th>(other, Woman)</th>\n",
       "      <td>2</td>\n",
       "    </tr>\n",
       "    <tr>\n",
       "      <th>(other, Man)</th>\n",
       "      <td>37</td>\n",
       "    </tr>\n",
       "    <tr>\n",
       "      <th>(other, Others)</th>\n",
       "      <td>1</td>\n",
       "    </tr>\n",
       "  </tbody>\n",
       "</table>\n",
       "</div>"
      ],
      "text/plain": [
       "                             0\n",
       "(Asia, Woman)              274\n",
       "(Asia, Man)               6155\n",
       "(Asia, Others)              53\n",
       "(North America, Woman)     975\n",
       "(North America, Man)     12702\n",
       "(North America, Others)    234\n",
       "(Oceania, Woman)            58\n",
       "(Oceania, Man)            1211\n",
       "(Oceania, Others)           22\n",
       "(Europe, Woman)            846\n",
       "(Europe, Man)            17934\n",
       "(Europe, Others)           170\n",
       "(South America, Woman)      71\n",
       "(South America, Man)      1758\n",
       "(South America, Others)     10\n",
       "(Africa, Woman)             49\n",
       "(Africa, Man)              882\n",
       "(Africa, Others)            10\n",
       "(other, Woman)               2\n",
       "(other, Man)                37\n",
       "(other, Others)              1"
      ]
     },
     "execution_count": 166,
     "metadata": {},
     "output_type": "execute_result"
    }
   ],
   "source": [
    "multiIndex_df.transpose()"
   ]
  },
  {
   "cell_type": "markdown",
   "id": "23b3a15e",
   "metadata": {},
   "source": [
    "## 4. Based on this survey, what will be the most desired programming language for the year  2020? "
   ]
  },
  {
   "cell_type": "code",
   "execution_count": 64,
   "id": "7d96e029",
   "metadata": {},
   "outputs": [],
   "source": [
    "df4 = df.dropna(subset=['LanguageDesireNextYear'])"
   ]
  },
  {
   "cell_type": "code",
   "execution_count": 65,
   "id": "66c416dc",
   "metadata": {},
   "outputs": [
    {
     "data": {
      "text/plain": [
       "False"
      ]
     },
     "execution_count": 65,
     "metadata": {},
     "output_type": "execute_result"
    }
   ],
   "source": [
    "df4['LanguageDesireNextYear'].isnull().values.any()"
   ]
  },
  {
   "cell_type": "code",
   "execution_count": 66,
   "id": "10bfa1ea",
   "metadata": {},
   "outputs": [],
   "source": [
    "d3 = {}\n",
    "for val in df4['LanguageDesireNextYear']:\n",
    "    l = val.split(\";\")\n",
    "    for lang in l:\n",
    "        if lang not in d3:\n",
    "            d3[lang] = 1\n",
    "        else:\n",
    "            d3[lang] += 1\n",
    "    "
   ]
  },
  {
   "cell_type": "code",
   "execution_count": 67,
   "id": "1ed6c1e5",
   "metadata": {},
   "outputs": [
    {
     "name": "stdout",
     "output_type": "stream",
     "text": [
      "{'C': 10632, 'C++': 16185, 'C#': 21771, 'Go': 16555, 'HTML/CSS': 35505, 'Java': 22660, 'JavaScript': 43374, 'Python': 38703, 'SQL': 32534, 'Elixir': 3664, 'WebAssembly': 8188, 'Scala': 5384, 'Bash/Shell/PowerShell': 20616, 'Erlang': 2035, 'Ruby': 7024, 'Rust': 10136, 'TypeScript': 23062, 'Other(s):': 7542, 'R': 6465, 'Assembly': 4437, 'Kotlin': 12856, 'Objective-C': 2725, 'PHP': 12368, 'Swift': 8506, 'VBA': 1580, 'Clojure': 2616, 'Dart': 4294, 'F#': 3403}\n"
     ]
    }
   ],
   "source": [
    "print(d3)"
   ]
  },
  {
   "cell_type": "code",
   "execution_count": 68,
   "id": "ffb40c7b",
   "metadata": {},
   "outputs": [
    {
     "name": "stdout",
     "output_type": "stream",
     "text": [
      "JavaScript\n"
     ]
    }
   ],
   "source": [
    "v = list(d3.values())\n",
    " \n",
    "k = list(d3.keys())\n",
    " \n",
    "print(k[v.index(max(v))])"
   ]
  },
  {
   "cell_type": "markdown",
   "id": "c5254f59",
   "metadata": {},
   "source": [
    "## 6. Generate the report for job and career satisfaction of developers based on their gender and continent."
   ]
  },
  {
   "cell_type": "code",
   "execution_count": 77,
   "id": "69adc8b8",
   "metadata": {},
   "outputs": [
    {
     "data": {
      "text/plain": [
       "array(['Slightly satisfied', 'Very satisfied', 'Very dissatisfied',\n",
       "       'Slightly dissatisfied', 'Neither satisfied nor dissatisfied'],\n",
       "      dtype=object)"
      ]
     },
     "execution_count": 77,
     "metadata": {},
     "output_type": "execute_result"
    }
   ],
   "source": [
    "df3[\"CareerSat\"].unique()"
   ]
  },
  {
   "cell_type": "code",
   "execution_count": 78,
   "id": "9269dbf0",
   "metadata": {},
   "outputs": [
    {
     "data": {
      "text/plain": [
       "array(['Slightly satisfied', 'Very satisfied',\n",
       "       'Neither satisfied nor dissatisfied', 'Slightly dissatisfied',\n",
       "       'Very dissatisfied'], dtype=object)"
      ]
     },
     "execution_count": 78,
     "metadata": {},
     "output_type": "execute_result"
    }
   ],
   "source": [
    "df3[\"JobSat\"].unique()"
   ]
  },
  {
   "cell_type": "code",
   "execution_count": 71,
   "id": "6cbdde8c",
   "metadata": {},
   "outputs": [
    {
     "data": {
      "text/html": [
       "<div>\n",
       "<style scoped>\n",
       "    .dataframe tbody tr th:only-of-type {\n",
       "        vertical-align: middle;\n",
       "    }\n",
       "\n",
       "    .dataframe tbody tr th {\n",
       "        vertical-align: top;\n",
       "    }\n",
       "\n",
       "    .dataframe thead th {\n",
       "        text-align: right;\n",
       "    }\n",
       "</style>\n",
       "<table border=\"1\" class=\"dataframe\">\n",
       "  <thead>\n",
       "    <tr style=\"text-align: right;\">\n",
       "      <th></th>\n",
       "      <th>Respondent</th>\n",
       "      <th>MainBranch</th>\n",
       "      <th>Hobbyist</th>\n",
       "      <th>OpenSourcer</th>\n",
       "      <th>OpenSource</th>\n",
       "      <th>Employment</th>\n",
       "      <th>Country</th>\n",
       "      <th>Student</th>\n",
       "      <th>EdLevel</th>\n",
       "      <th>UndergradMajor</th>\n",
       "      <th>...</th>\n",
       "      <th>SONewContent</th>\n",
       "      <th>Age</th>\n",
       "      <th>Gender</th>\n",
       "      <th>Trans</th>\n",
       "      <th>Sexuality</th>\n",
       "      <th>Ethnicity</th>\n",
       "      <th>Dependents</th>\n",
       "      <th>SurveyLength</th>\n",
       "      <th>SurveyEase</th>\n",
       "      <th>Continent</th>\n",
       "    </tr>\n",
       "  </thead>\n",
       "  <tbody>\n",
       "    <tr>\n",
       "      <th>2</th>\n",
       "      <td>3</td>\n",
       "      <td>I am not primarily a developer, but I write co...</td>\n",
       "      <td>Yes</td>\n",
       "      <td>Never</td>\n",
       "      <td>The quality of OSS and closed source software ...</td>\n",
       "      <td>Employed full-time</td>\n",
       "      <td>Thailand</td>\n",
       "      <td>No</td>\n",
       "      <td>Bachelor’s degree (BA, BS, B.Eng., etc.)</td>\n",
       "      <td>Web development or web design</td>\n",
       "      <td>...</td>\n",
       "      <td>Tech meetups or events in your area;Courses on...</td>\n",
       "      <td>28.0</td>\n",
       "      <td>Man</td>\n",
       "      <td>No</td>\n",
       "      <td>Straight / Heterosexual</td>\n",
       "      <td>NaN</td>\n",
       "      <td>Yes</td>\n",
       "      <td>Appropriate in length</td>\n",
       "      <td>Neither easy nor difficult</td>\n",
       "      <td>Asia</td>\n",
       "    </tr>\n",
       "    <tr>\n",
       "      <th>3</th>\n",
       "      <td>4</td>\n",
       "      <td>I am a developer by profession</td>\n",
       "      <td>No</td>\n",
       "      <td>Never</td>\n",
       "      <td>The quality of OSS and closed source software ...</td>\n",
       "      <td>Employed full-time</td>\n",
       "      <td>United States</td>\n",
       "      <td>No</td>\n",
       "      <td>Bachelor’s degree (BA, BS, B.Eng., etc.)</td>\n",
       "      <td>Computer science, computer engineering, or sof...</td>\n",
       "      <td>...</td>\n",
       "      <td>Tech articles written by other developers;Indu...</td>\n",
       "      <td>22.0</td>\n",
       "      <td>Man</td>\n",
       "      <td>No</td>\n",
       "      <td>Straight / Heterosexual</td>\n",
       "      <td>White or of European descent</td>\n",
       "      <td>No</td>\n",
       "      <td>Appropriate in length</td>\n",
       "      <td>Easy</td>\n",
       "      <td>North America</td>\n",
       "    </tr>\n",
       "    <tr>\n",
       "      <th>5</th>\n",
       "      <td>6</td>\n",
       "      <td>I am not primarily a developer, but I write co...</td>\n",
       "      <td>Yes</td>\n",
       "      <td>Never</td>\n",
       "      <td>The quality of OSS and closed source software ...</td>\n",
       "      <td>Employed full-time</td>\n",
       "      <td>Canada</td>\n",
       "      <td>No</td>\n",
       "      <td>Bachelor’s degree (BA, BS, B.Eng., etc.)</td>\n",
       "      <td>Mathematics or statistics</td>\n",
       "      <td>...</td>\n",
       "      <td>Tech articles written by other developers;Indu...</td>\n",
       "      <td>28.0</td>\n",
       "      <td>Man</td>\n",
       "      <td>No</td>\n",
       "      <td>Straight / Heterosexual</td>\n",
       "      <td>East Asian</td>\n",
       "      <td>No</td>\n",
       "      <td>Too long</td>\n",
       "      <td>Neither easy nor difficult</td>\n",
       "      <td>North America</td>\n",
       "    </tr>\n",
       "    <tr>\n",
       "      <th>8</th>\n",
       "      <td>9</td>\n",
       "      <td>I am a developer by profession</td>\n",
       "      <td>Yes</td>\n",
       "      <td>Once a month or more often</td>\n",
       "      <td>The quality of OSS and closed source software ...</td>\n",
       "      <td>Employed full-time</td>\n",
       "      <td>New Zealand</td>\n",
       "      <td>No</td>\n",
       "      <td>Some college/university study without earning ...</td>\n",
       "      <td>Computer science, computer engineering, or sof...</td>\n",
       "      <td>...</td>\n",
       "      <td>NaN</td>\n",
       "      <td>23.0</td>\n",
       "      <td>Man</td>\n",
       "      <td>No</td>\n",
       "      <td>Bisexual</td>\n",
       "      <td>White or of European descent</td>\n",
       "      <td>No</td>\n",
       "      <td>Appropriate in length</td>\n",
       "      <td>Neither easy nor difficult</td>\n",
       "      <td>Oceania</td>\n",
       "    </tr>\n",
       "    <tr>\n",
       "      <th>12</th>\n",
       "      <td>13</td>\n",
       "      <td>I am a developer by profession</td>\n",
       "      <td>Yes</td>\n",
       "      <td>Less than once a month but more than once per ...</td>\n",
       "      <td>OSS is, on average, of HIGHER quality than pro...</td>\n",
       "      <td>Employed full-time</td>\n",
       "      <td>United States</td>\n",
       "      <td>No</td>\n",
       "      <td>Master’s degree (MA, MS, M.Eng., MBA, etc.)</td>\n",
       "      <td>Computer science, computer engineering, or sof...</td>\n",
       "      <td>...</td>\n",
       "      <td>Tech articles written by other developers;Cour...</td>\n",
       "      <td>28.0</td>\n",
       "      <td>Man</td>\n",
       "      <td>No</td>\n",
       "      <td>Straight / Heterosexual</td>\n",
       "      <td>White or of European descent</td>\n",
       "      <td>Yes</td>\n",
       "      <td>Appropriate in length</td>\n",
       "      <td>Easy</td>\n",
       "      <td>North America</td>\n",
       "    </tr>\n",
       "  </tbody>\n",
       "</table>\n",
       "<p>5 rows × 86 columns</p>\n",
       "</div>"
      ],
      "text/plain": [
       "    Respondent                                         MainBranch Hobbyist  \\\n",
       "2            3  I am not primarily a developer, but I write co...      Yes   \n",
       "3            4                     I am a developer by profession       No   \n",
       "5            6  I am not primarily a developer, but I write co...      Yes   \n",
       "8            9                     I am a developer by profession      Yes   \n",
       "12          13                     I am a developer by profession      Yes   \n",
       "\n",
       "                                          OpenSourcer  \\\n",
       "2                                               Never   \n",
       "3                                               Never   \n",
       "5                                               Never   \n",
       "8                          Once a month or more often   \n",
       "12  Less than once a month but more than once per ...   \n",
       "\n",
       "                                           OpenSource          Employment  \\\n",
       "2   The quality of OSS and closed source software ...  Employed full-time   \n",
       "3   The quality of OSS and closed source software ...  Employed full-time   \n",
       "5   The quality of OSS and closed source software ...  Employed full-time   \n",
       "8   The quality of OSS and closed source software ...  Employed full-time   \n",
       "12  OSS is, on average, of HIGHER quality than pro...  Employed full-time   \n",
       "\n",
       "          Country Student                                            EdLevel  \\\n",
       "2        Thailand      No           Bachelor’s degree (BA, BS, B.Eng., etc.)   \n",
       "3   United States      No           Bachelor’s degree (BA, BS, B.Eng., etc.)   \n",
       "5          Canada      No           Bachelor’s degree (BA, BS, B.Eng., etc.)   \n",
       "8     New Zealand      No  Some college/university study without earning ...   \n",
       "12  United States      No        Master’s degree (MA, MS, M.Eng., MBA, etc.)   \n",
       "\n",
       "                                       UndergradMajor  ...  \\\n",
       "2                       Web development or web design  ...   \n",
       "3   Computer science, computer engineering, or sof...  ...   \n",
       "5                           Mathematics or statistics  ...   \n",
       "8   Computer science, computer engineering, or sof...  ...   \n",
       "12  Computer science, computer engineering, or sof...  ...   \n",
       "\n",
       "                                         SONewContent   Age Gender Trans  \\\n",
       "2   Tech meetups or events in your area;Courses on...  28.0    Man    No   \n",
       "3   Tech articles written by other developers;Indu...  22.0    Man    No   \n",
       "5   Tech articles written by other developers;Indu...  28.0    Man    No   \n",
       "8                                                 NaN  23.0    Man    No   \n",
       "12  Tech articles written by other developers;Cour...  28.0    Man    No   \n",
       "\n",
       "                  Sexuality                     Ethnicity Dependents  \\\n",
       "2   Straight / Heterosexual                           NaN        Yes   \n",
       "3   Straight / Heterosexual  White or of European descent         No   \n",
       "5   Straight / Heterosexual                    East Asian         No   \n",
       "8                  Bisexual  White or of European descent         No   \n",
       "12  Straight / Heterosexual  White or of European descent        Yes   \n",
       "\n",
       "             SurveyLength                  SurveyEase      Continent  \n",
       "2   Appropriate in length  Neither easy nor difficult           Asia  \n",
       "3   Appropriate in length                        Easy  North America  \n",
       "5                Too long  Neither easy nor difficult  North America  \n",
       "8   Appropriate in length  Neither easy nor difficult        Oceania  \n",
       "12  Appropriate in length                        Easy  North America  \n",
       "\n",
       "[5 rows x 86 columns]"
      ]
     },
     "execution_count": 71,
     "metadata": {},
     "output_type": "execute_result"
    }
   ],
   "source": [
    "df3.head()"
   ]
  },
  {
   "cell_type": "code",
   "execution_count": 73,
   "id": "ce1f3838",
   "metadata": {},
   "outputs": [
    {
     "name": "stderr",
     "output_type": "stream",
     "text": [
      "C:\\Users\\SVsre\\AppData\\Local\\Temp\\ipykernel_22204\\1088738022.py:1: SettingWithCopyWarning: \n",
      "A value is trying to be set on a copy of a slice from a DataFrame\n",
      "\n",
      "See the caveats in the documentation: https://pandas.pydata.org/pandas-docs/stable/user_guide/indexing.html#returning-a-view-versus-a-copy\n",
      "  df3.dropna(subset=['CareerSat'],inplace=True)\n",
      "C:\\Users\\SVsre\\AppData\\Local\\Temp\\ipykernel_22204\\1088738022.py:2: SettingWithCopyWarning: \n",
      "A value is trying to be set on a copy of a slice from a DataFrame\n",
      "\n",
      "See the caveats in the documentation: https://pandas.pydata.org/pandas-docs/stable/user_guide/indexing.html#returning-a-view-versus-a-copy\n",
      "  df3.dropna(subset=['JobSat'],inplace=True)\n"
     ]
    }
   ],
   "source": [
    "df3.dropna(subset=['CareerSat'],inplace=True)\n",
    "df3.dropna(subset=['JobSat'],inplace=True)"
   ]
  },
  {
   "cell_type": "code",
   "execution_count": 97,
   "id": "e6d21029",
   "metadata": {},
   "outputs": [
    {
     "data": {
      "text/plain": [
       "False"
      ]
     },
     "execution_count": 97,
     "metadata": {},
     "output_type": "execute_result"
    }
   ],
   "source": [
    "df3['JobSat'].isnull().values.any()"
   ]
  },
  {
   "cell_type": "code",
   "execution_count": 79,
   "id": "5999c502",
   "metadata": {},
   "outputs": [],
   "source": [
    "d6={\"CareerSat\":0,\"JobSat\":0}"
   ]
  },
  {
   "cell_type": "code",
   "execution_count": 132,
   "id": "4e5899b8",
   "metadata": {},
   "outputs": [],
   "source": [
    "dcss = {}\n",
    "dcvs = {}\n",
    "dcvd = {}\n",
    "dcsd = {}\n",
    "dcnsd = {}"
   ]
  },
  {
   "cell_type": "code",
   "execution_count": 133,
   "id": "ea204113",
   "metadata": {},
   "outputs": [],
   "source": [
    "for i in range(len(df3['CareerSat'])):\n",
    "    if df3['CareerSat'].iloc[i] == \"Slightly satisfied\":\n",
    "        if df3[\"Continent\"].iloc[i] not in dcss:\n",
    "            dcss[df3[\"Continent\"].iloc[i]] = {\"Woman\" : 0,\"Man\" : 0,\"Others\":0}\n",
    "            if df3[\"Gender\"].iloc[i] == \"Woman\":\n",
    "                dcss[df3[\"Continent\"].iloc[i]][\"Woman\"] += 1\n",
    "            elif df3[\"Gender\"].iloc[i] == \"Man\":\n",
    "                dcss[df3[\"Continent\"].iloc[i]][\"Man\"] += 1\n",
    "            else:\n",
    "                dcss[df3[\"Continent\"].iloc[i]][\"Others\"] += 1\n",
    "        else:\n",
    "            if df3[\"Gender\"].iloc[i] == \"Woman\":\n",
    "                dcss[df3[\"Continent\"].iloc[i]][\"Woman\"] += 1\n",
    "            elif df3[\"Gender\"].iloc[i] == \"Man\":\n",
    "                dcss[df3[\"Continent\"].iloc[i]][\"Man\"] += 1\n",
    "            else:\n",
    "                dcss[df3[\"Continent\"].iloc[i]][\"Others\"] += 1\n",
    "    if df3['CareerSat'].iloc[i] == \"Very satisfied\":\n",
    "        if df3[\"Continent\"].iloc[i] not in dcvs:\n",
    "            dcvs[df3[\"Continent\"].iloc[i]] = {\"Woman\" : 0,\"Man\" : 0,\"Others\":0}\n",
    "            if df3[\"Gender\"].iloc[i] == \"Woman\":\n",
    "                dcvs[df3[\"Continent\"].iloc[i]][\"Woman\"] += 1\n",
    "            elif df3[\"Gender\"].iloc[i] == \"Man\":\n",
    "                dcvs[df3[\"Continent\"].iloc[i]][\"Man\"] += 1\n",
    "            else:\n",
    "                dcvs[df3[\"Continent\"].iloc[i]][\"Others\"] += 1\n",
    "        else:\n",
    "            if df3[\"Gender\"].iloc[i] == \"Woman\":\n",
    "                dcvs[df3[\"Continent\"].iloc[i]][\"Woman\"] += 1\n",
    "            elif df3[\"Gender\"].iloc[i] == \"Man\":\n",
    "                dcvs[df3[\"Continent\"].iloc[i]][\"Man\"] += 1\n",
    "            else:\n",
    "                dcvs[df3[\"Continent\"].iloc[i]][\"Others\"] += 1\n",
    "    if df3['CareerSat'].iloc[i] == \"Very dissatisfied\":\n",
    "        if df3[\"Continent\"].iloc[i] not in dcvd:\n",
    "            dcvd[df3[\"Continent\"].iloc[i]] = {\"Woman\" : 0,\"Man\" : 0,\"Others\":0}\n",
    "            if df3[\"Gender\"].iloc[i] == \"Woman\":\n",
    "                dcvd[df3[\"Continent\"].iloc[i]][\"Woman\"] += 1\n",
    "            elif df3[\"Gender\"].iloc[i] == \"Man\":\n",
    "                dcvd[df3[\"Continent\"].iloc[i]][\"Man\"] += 1\n",
    "            else:\n",
    "                dcvd[df3[\"Continent\"].iloc[i]][\"Others\"] += 1\n",
    "        else:\n",
    "            if df3[\"Gender\"].iloc[i] == \"Woman\":\n",
    "                dcvd[df3[\"Continent\"].iloc[i]][\"Woman\"] += 1\n",
    "            elif df3[\"Gender\"].iloc[i] == \"Man\":\n",
    "                dcvd[df3[\"Continent\"].iloc[i]][\"Man\"] += 1\n",
    "            else:\n",
    "                dcvd[df3[\"Continent\"].iloc[i]][\"Others\"] += 1\n",
    "    if df3['CareerSat'].iloc[i] == \"Slightly dissatisfied\":\n",
    "        if df3[\"Continent\"].iloc[i] not in dcsd:\n",
    "            dcsd[df3[\"Continent\"].iloc[i]] = {\"Woman\" : 0,\"Man\" : 0,\"Others\":0}\n",
    "            if df3[\"Gender\"].iloc[i] == \"Woman\":\n",
    "                dcsd[df3[\"Continent\"].iloc[i]][\"Woman\"] += 1\n",
    "            elif df3[\"Gender\"].iloc[i] == \"Man\":\n",
    "                dcsd[df3[\"Continent\"].iloc[i]][\"Man\"] += 1\n",
    "            else:\n",
    "                dcsd[df3[\"Continent\"].iloc[i]][\"Others\"] += 1\n",
    "        else:\n",
    "            if df3[\"Gender\"].iloc[i] == \"Woman\":\n",
    "                dcsd[df3[\"Continent\"].iloc[i]][\"Woman\"] += 1\n",
    "            elif df3[\"Gender\"].iloc[i] == \"Man\":\n",
    "                dcsd[df3[\"Continent\"].iloc[i]][\"Man\"] += 1\n",
    "            else:\n",
    "                dcsd[df3[\"Continent\"].iloc[i]][\"Others\"] += 1\n",
    "    if df3['CareerSat'].iloc[i] == \"Neither satisfied nor dissatisfied\":\n",
    "        if df3[\"Continent\"].iloc[i] not in dcnsd:\n",
    "            dcnsd[df3[\"Continent\"].iloc[i]] = {\"Woman\" : 0,\"Man\" : 0,\"Others\":0}\n",
    "            if df3[\"Gender\"].iloc[i] == \"Woman\":\n",
    "                dcnsd[df3[\"Continent\"].iloc[i]][\"Woman\"] += 1\n",
    "            elif df3[\"Gender\"].iloc[i] == \"Man\":\n",
    "                dcnsd[df3[\"Continent\"].iloc[i]][\"Man\"] += 1\n",
    "            else:\n",
    "                dcnsd[df3[\"Continent\"].iloc[i]][\"Others\"] += 1\n",
    "        else:\n",
    "            if df3[\"Gender\"].iloc[i] == \"Woman\":\n",
    "                dcnsd[df3[\"Continent\"].iloc[i]][\"Woman\"] += 1\n",
    "            elif df3[\"Gender\"].iloc[i] == \"Man\":\n",
    "                dcnsd[df3[\"Continent\"].iloc[i]][\"Man\"] += 1\n",
    "            else:\n",
    "                dcnsd[df3[\"Continent\"].iloc[i]][\"Others\"] += 1"
   ]
  },
  {
   "cell_type": "code",
   "execution_count": 122,
   "id": "fbb8c543",
   "metadata": {},
   "outputs": [],
   "source": [
    "dcfinal = {}"
   ]
  },
  {
   "cell_type": "code",
   "execution_count": 123,
   "id": "1cc779f8",
   "metadata": {},
   "outputs": [
    {
     "data": {
      "text/plain": [
       "array(['Slightly satisfied', 'Very satisfied', 'Very dissatisfied',\n",
       "       'Slightly dissatisfied', 'Neither satisfied nor dissatisfied'],\n",
       "      dtype=object)"
      ]
     },
     "execution_count": 123,
     "metadata": {},
     "output_type": "execute_result"
    }
   ],
   "source": [
    "df3[\"CareerSat\"].unique()"
   ]
  },
  {
   "cell_type": "code",
   "execution_count": 124,
   "id": "bfdb4df2",
   "metadata": {},
   "outputs": [],
   "source": [
    "dcfinal[\"Slightly satisfied\"] = dcss\n",
    "dcfinal[\"Very satisfied\"] = dcvs\n",
    "dcfinal[\"Very dissatisfied\"] = dcvd\n",
    "dcfinal[\"Slightly dissatisfied\"] = dcsd\n",
    "dcfinal[\"Neither satisfied nor dissatisfied\"] = dcnsd"
   ]
  },
  {
   "cell_type": "code",
   "execution_count": 125,
   "id": "487ec6d9",
   "metadata": {},
   "outputs": [
    {
     "data": {
      "text/plain": [
       "{'Slightly satisfied': {'Asia': {'Woman': 155, 'Man': 2773, 'Others': 22},\n",
       "  'Oceania': {'Woman': 37, 'Man': 512, 'Others': 7},\n",
       "  'Europe': {'Woman': 483, 'Man': 8279, 'Others': 77},\n",
       "  'North America': {'Woman': 527, 'Man': 4833, 'Others': 99},\n",
       "  'South America': {'Woman': 47, 'Man': 819, 'Others': 4},\n",
       "  'Africa': {'Woman': 31, 'Man': 398, 'Others': 5},\n",
       "  'other': {'Woman': 3, 'Man': 19, 'Others': 0}},\n",
       " 'Very satisfied': {'North America': {'Woman': 1738,\n",
       "   'Man': 16520,\n",
       "   'Others': 246},\n",
       "  'Europe': {'Woman': 1086, 'Man': 16760, 'Others': 122},\n",
       "  'Asia': {'Woman': 276, 'Man': 4952, 'Others': 34},\n",
       "  'Africa': {'Woman': 66, 'Man': 832, 'Others': 2},\n",
       "  'South America': {'Woman': 86, 'Man': 1604, 'Others': 4},\n",
       "  'Oceania': {'Woman': 72, 'Man': 1342, 'Others': 22},\n",
       "  'other': {'Woman': 2, 'Man': 38, 'Others': 0}},\n",
       " 'Very dissatisfied': {'South America': {'Woman': 12, 'Man': 428, 'Others': 8},\n",
       "  'Europe': {'Woman': 122, 'Man': 1930, 'Others': 20},\n",
       "  'North America': {'Woman': 82, 'Man': 1170, 'Others': 34},\n",
       "  'Africa': {'Woman': 14, 'Man': 154, 'Others': 0},\n",
       "  'Oceania': {'Woman': 2, 'Man': 88, 'Others': 4},\n",
       "  'Asia': {'Woman': 52, 'Man': 1058, 'Others': 12},\n",
       "  'other': {'Woman': 2, 'Man': 8, 'Others': 0}},\n",
       " 'Slightly dissatisfied': {'Europe': {'Woman': 280, 'Man': 4568, 'Others': 56},\n",
       "  'Asia': {'Woman': 154, 'Man': 2180, 'Others': 14},\n",
       "  'North America': {'Woman': 294, 'Man': 2370, 'Others': 66},\n",
       "  'Oceania': {'Woman': 6, 'Man': 282, 'Others': 4},\n",
       "  'South America': {'Woman': 34, 'Man': 572, 'Others': 6},\n",
       "  'Africa': {'Woman': 30, 'Man': 242, 'Others': 6},\n",
       "  'other': {'Woman': 0, 'Man': 12, 'Others': 2}},\n",
       " 'Neither satisfied nor dissatisfied': {'Europe': {'Woman': 216,\n",
       "   'Man': 3842,\n",
       "   'Others': 62},\n",
       "  'Asia': {'Woman': 110, 'Man': 2168, 'Others': 28},\n",
       "  'Africa': {'Woman': 0, 'Man': 248, 'Others': 4},\n",
       "  'North America': {'Woman': 176, 'Man': 1676, 'Others': 64},\n",
       "  'Oceania': {'Woman': 20, 'Man': 206, 'Others': 2},\n",
       "  'South America': {'Woman': 18, 'Man': 408, 'Others': 6},\n",
       "  'other': {'Woman': 0, 'Man': 8, 'Others': 0}}}"
      ]
     },
     "execution_count": 125,
     "metadata": {},
     "output_type": "execute_result"
    }
   ],
   "source": [
    "dcfinal"
   ]
  },
  {
   "cell_type": "code",
   "execution_count": 153,
   "id": "d0f7dc12",
   "metadata": {},
   "outputs": [],
   "source": [
    "reformed_dict = {}\n",
    "for outerKey, innerDict in dcfinal.items():\n",
    "    for innerKey, values in innerDict.items():\n",
    "        for ik,v in values.items():\n",
    "            reformed_dict[(outerKey,innerKey,ik)] = v"
   ]
  },
  {
   "cell_type": "code",
   "execution_count": 154,
   "id": "8faeb666",
   "metadata": {},
   "outputs": [
    {
     "data": {
      "text/plain": [
       "{('Slightly satisfied', 'Asia', 'Woman'): 155,\n",
       " ('Slightly satisfied', 'Asia', 'Man'): 2773,\n",
       " ('Slightly satisfied', 'Asia', 'Others'): 22,\n",
       " ('Slightly satisfied', 'Oceania', 'Woman'): 37,\n",
       " ('Slightly satisfied', 'Oceania', 'Man'): 512,\n",
       " ('Slightly satisfied', 'Oceania', 'Others'): 7,\n",
       " ('Slightly satisfied', 'Europe', 'Woman'): 483,\n",
       " ('Slightly satisfied', 'Europe', 'Man'): 8279,\n",
       " ('Slightly satisfied', 'Europe', 'Others'): 77,\n",
       " ('Slightly satisfied', 'North America', 'Woman'): 527,\n",
       " ('Slightly satisfied', 'North America', 'Man'): 4833,\n",
       " ('Slightly satisfied', 'North America', 'Others'): 99,\n",
       " ('Slightly satisfied', 'South America', 'Woman'): 47,\n",
       " ('Slightly satisfied', 'South America', 'Man'): 819,\n",
       " ('Slightly satisfied', 'South America', 'Others'): 4,\n",
       " ('Slightly satisfied', 'Africa', 'Woman'): 31,\n",
       " ('Slightly satisfied', 'Africa', 'Man'): 398,\n",
       " ('Slightly satisfied', 'Africa', 'Others'): 5,\n",
       " ('Slightly satisfied', 'other', 'Woman'): 3,\n",
       " ('Slightly satisfied', 'other', 'Man'): 19,\n",
       " ('Slightly satisfied', 'other', 'Others'): 0,\n",
       " ('Very satisfied', 'North America', 'Woman'): 1738,\n",
       " ('Very satisfied', 'North America', 'Man'): 16520,\n",
       " ('Very satisfied', 'North America', 'Others'): 246,\n",
       " ('Very satisfied', 'Europe', 'Woman'): 1086,\n",
       " ('Very satisfied', 'Europe', 'Man'): 16760,\n",
       " ('Very satisfied', 'Europe', 'Others'): 122,\n",
       " ('Very satisfied', 'Asia', 'Woman'): 276,\n",
       " ('Very satisfied', 'Asia', 'Man'): 4952,\n",
       " ('Very satisfied', 'Asia', 'Others'): 34,\n",
       " ('Very satisfied', 'Africa', 'Woman'): 66,\n",
       " ('Very satisfied', 'Africa', 'Man'): 832,\n",
       " ('Very satisfied', 'Africa', 'Others'): 2,\n",
       " ('Very satisfied', 'South America', 'Woman'): 86,\n",
       " ('Very satisfied', 'South America', 'Man'): 1604,\n",
       " ('Very satisfied', 'South America', 'Others'): 4,\n",
       " ('Very satisfied', 'Oceania', 'Woman'): 72,\n",
       " ('Very satisfied', 'Oceania', 'Man'): 1342,\n",
       " ('Very satisfied', 'Oceania', 'Others'): 22,\n",
       " ('Very satisfied', 'other', 'Woman'): 2,\n",
       " ('Very satisfied', 'other', 'Man'): 38,\n",
       " ('Very satisfied', 'other', 'Others'): 0,\n",
       " ('Very dissatisfied', 'South America', 'Woman'): 12,\n",
       " ('Very dissatisfied', 'South America', 'Man'): 428,\n",
       " ('Very dissatisfied', 'South America', 'Others'): 8,\n",
       " ('Very dissatisfied', 'Europe', 'Woman'): 122,\n",
       " ('Very dissatisfied', 'Europe', 'Man'): 1930,\n",
       " ('Very dissatisfied', 'Europe', 'Others'): 20,\n",
       " ('Very dissatisfied', 'North America', 'Woman'): 82,\n",
       " ('Very dissatisfied', 'North America', 'Man'): 1170,\n",
       " ('Very dissatisfied', 'North America', 'Others'): 34,\n",
       " ('Very dissatisfied', 'Africa', 'Woman'): 14,\n",
       " ('Very dissatisfied', 'Africa', 'Man'): 154,\n",
       " ('Very dissatisfied', 'Africa', 'Others'): 0,\n",
       " ('Very dissatisfied', 'Oceania', 'Woman'): 2,\n",
       " ('Very dissatisfied', 'Oceania', 'Man'): 88,\n",
       " ('Very dissatisfied', 'Oceania', 'Others'): 4,\n",
       " ('Very dissatisfied', 'Asia', 'Woman'): 52,\n",
       " ('Very dissatisfied', 'Asia', 'Man'): 1058,\n",
       " ('Very dissatisfied', 'Asia', 'Others'): 12,\n",
       " ('Very dissatisfied', 'other', 'Woman'): 2,\n",
       " ('Very dissatisfied', 'other', 'Man'): 8,\n",
       " ('Very dissatisfied', 'other', 'Others'): 0,\n",
       " ('Slightly dissatisfied', 'Europe', 'Woman'): 280,\n",
       " ('Slightly dissatisfied', 'Europe', 'Man'): 4568,\n",
       " ('Slightly dissatisfied', 'Europe', 'Others'): 56,\n",
       " ('Slightly dissatisfied', 'Asia', 'Woman'): 154,\n",
       " ('Slightly dissatisfied', 'Asia', 'Man'): 2180,\n",
       " ('Slightly dissatisfied', 'Asia', 'Others'): 14,\n",
       " ('Slightly dissatisfied', 'North America', 'Woman'): 294,\n",
       " ('Slightly dissatisfied', 'North America', 'Man'): 2370,\n",
       " ('Slightly dissatisfied', 'North America', 'Others'): 66,\n",
       " ('Slightly dissatisfied', 'Oceania', 'Woman'): 6,\n",
       " ('Slightly dissatisfied', 'Oceania', 'Man'): 282,\n",
       " ('Slightly dissatisfied', 'Oceania', 'Others'): 4,\n",
       " ('Slightly dissatisfied', 'South America', 'Woman'): 34,\n",
       " ('Slightly dissatisfied', 'South America', 'Man'): 572,\n",
       " ('Slightly dissatisfied', 'South America', 'Others'): 6,\n",
       " ('Slightly dissatisfied', 'Africa', 'Woman'): 30,\n",
       " ('Slightly dissatisfied', 'Africa', 'Man'): 242,\n",
       " ('Slightly dissatisfied', 'Africa', 'Others'): 6,\n",
       " ('Slightly dissatisfied', 'other', 'Woman'): 0,\n",
       " ('Slightly dissatisfied', 'other', 'Man'): 12,\n",
       " ('Slightly dissatisfied', 'other', 'Others'): 2,\n",
       " ('Neither satisfied nor dissatisfied', 'Europe', 'Woman'): 216,\n",
       " ('Neither satisfied nor dissatisfied', 'Europe', 'Man'): 3842,\n",
       " ('Neither satisfied nor dissatisfied', 'Europe', 'Others'): 62,\n",
       " ('Neither satisfied nor dissatisfied', 'Asia', 'Woman'): 110,\n",
       " ('Neither satisfied nor dissatisfied', 'Asia', 'Man'): 2168,\n",
       " ('Neither satisfied nor dissatisfied', 'Asia', 'Others'): 28,\n",
       " ('Neither satisfied nor dissatisfied', 'Africa', 'Woman'): 0,\n",
       " ('Neither satisfied nor dissatisfied', 'Africa', 'Man'): 248,\n",
       " ('Neither satisfied nor dissatisfied', 'Africa', 'Others'): 4,\n",
       " ('Neither satisfied nor dissatisfied', 'North America', 'Woman'): 176,\n",
       " ('Neither satisfied nor dissatisfied', 'North America', 'Man'): 1676,\n",
       " ('Neither satisfied nor dissatisfied', 'North America', 'Others'): 64,\n",
       " ('Neither satisfied nor dissatisfied', 'Oceania', 'Woman'): 20,\n",
       " ('Neither satisfied nor dissatisfied', 'Oceania', 'Man'): 206,\n",
       " ('Neither satisfied nor dissatisfied', 'Oceania', 'Others'): 2,\n",
       " ('Neither satisfied nor dissatisfied', 'South America', 'Woman'): 18,\n",
       " ('Neither satisfied nor dissatisfied', 'South America', 'Man'): 408,\n",
       " ('Neither satisfied nor dissatisfied', 'South America', 'Others'): 6,\n",
       " ('Neither satisfied nor dissatisfied', 'other', 'Woman'): 0,\n",
       " ('Neither satisfied nor dissatisfied', 'other', 'Man'): 8,\n",
       " ('Neither satisfied nor dissatisfied', 'other', 'Others'): 0}"
      ]
     },
     "execution_count": 154,
     "metadata": {},
     "output_type": "execute_result"
    }
   ],
   "source": [
    "reformed_dict"
   ]
  },
  {
   "cell_type": "code",
   "execution_count": 155,
   "id": "b7a3770e",
   "metadata": {},
   "outputs": [
    {
     "data": {
      "text/html": [
       "<div>\n",
       "<style scoped>\n",
       "    .dataframe tbody tr th:only-of-type {\n",
       "        vertical-align: middle;\n",
       "    }\n",
       "\n",
       "    .dataframe tbody tr th {\n",
       "        vertical-align: top;\n",
       "    }\n",
       "\n",
       "    .dataframe thead th {\n",
       "        text-align: right;\n",
       "    }\n",
       "</style>\n",
       "<table border=\"1\" class=\"dataframe\">\n",
       "  <thead>\n",
       "    <tr style=\"text-align: right;\">\n",
       "      <th></th>\n",
       "      <th>(Slightly satisfied, Asia, Woman)</th>\n",
       "      <th>(Slightly satisfied, Asia, Man)</th>\n",
       "      <th>(Slightly satisfied, Asia, Others)</th>\n",
       "      <th>(Slightly satisfied, Oceania, Woman)</th>\n",
       "      <th>(Slightly satisfied, Oceania, Man)</th>\n",
       "      <th>(Slightly satisfied, Oceania, Others)</th>\n",
       "      <th>(Slightly satisfied, Europe, Woman)</th>\n",
       "      <th>(Slightly satisfied, Europe, Man)</th>\n",
       "      <th>(Slightly satisfied, Europe, Others)</th>\n",
       "      <th>(Slightly satisfied, North America, Woman)</th>\n",
       "      <th>...</th>\n",
       "      <th>(Neither satisfied nor dissatisfied, North America, Others)</th>\n",
       "      <th>(Neither satisfied nor dissatisfied, Oceania, Woman)</th>\n",
       "      <th>(Neither satisfied nor dissatisfied, Oceania, Man)</th>\n",
       "      <th>(Neither satisfied nor dissatisfied, Oceania, Others)</th>\n",
       "      <th>(Neither satisfied nor dissatisfied, South America, Woman)</th>\n",
       "      <th>(Neither satisfied nor dissatisfied, South America, Man)</th>\n",
       "      <th>(Neither satisfied nor dissatisfied, South America, Others)</th>\n",
       "      <th>(Neither satisfied nor dissatisfied, other, Woman)</th>\n",
       "      <th>(Neither satisfied nor dissatisfied, other, Man)</th>\n",
       "      <th>(Neither satisfied nor dissatisfied, other, Others)</th>\n",
       "    </tr>\n",
       "  </thead>\n",
       "  <tbody>\n",
       "    <tr>\n",
       "      <th>0</th>\n",
       "      <td>155</td>\n",
       "      <td>2773</td>\n",
       "      <td>22</td>\n",
       "      <td>37</td>\n",
       "      <td>512</td>\n",
       "      <td>7</td>\n",
       "      <td>483</td>\n",
       "      <td>8279</td>\n",
       "      <td>77</td>\n",
       "      <td>527</td>\n",
       "      <td>...</td>\n",
       "      <td>64</td>\n",
       "      <td>20</td>\n",
       "      <td>206</td>\n",
       "      <td>2</td>\n",
       "      <td>18</td>\n",
       "      <td>408</td>\n",
       "      <td>6</td>\n",
       "      <td>0</td>\n",
       "      <td>8</td>\n",
       "      <td>0</td>\n",
       "    </tr>\n",
       "  </tbody>\n",
       "</table>\n",
       "<p>1 rows × 105 columns</p>\n",
       "</div>"
      ],
      "text/plain": [
       "   (Slightly satisfied, Asia, Woman)  (Slightly satisfied, Asia, Man)  \\\n",
       "0                                155                             2773   \n",
       "\n",
       "   (Slightly satisfied, Asia, Others)  (Slightly satisfied, Oceania, Woman)  \\\n",
       "0                                  22                                    37   \n",
       "\n",
       "   (Slightly satisfied, Oceania, Man)  (Slightly satisfied, Oceania, Others)  \\\n",
       "0                                 512                                      7   \n",
       "\n",
       "   (Slightly satisfied, Europe, Woman)  (Slightly satisfied, Europe, Man)  \\\n",
       "0                                  483                               8279   \n",
       "\n",
       "   (Slightly satisfied, Europe, Others)  \\\n",
       "0                                    77   \n",
       "\n",
       "   (Slightly satisfied, North America, Woman)  ...  \\\n",
       "0                                         527  ...   \n",
       "\n",
       "   (Neither satisfied nor dissatisfied, North America, Others)  \\\n",
       "0                                                 64             \n",
       "\n",
       "   (Neither satisfied nor dissatisfied, Oceania, Woman)  \\\n",
       "0                                                 20      \n",
       "\n",
       "   (Neither satisfied nor dissatisfied, Oceania, Man)  \\\n",
       "0                                                206    \n",
       "\n",
       "   (Neither satisfied nor dissatisfied, Oceania, Others)  \\\n",
       "0                                                  2       \n",
       "\n",
       "   (Neither satisfied nor dissatisfied, South America, Woman)  \\\n",
       "0                                                 18            \n",
       "\n",
       "   (Neither satisfied nor dissatisfied, South America, Man)  \\\n",
       "0                                                408          \n",
       "\n",
       "   (Neither satisfied nor dissatisfied, South America, Others)  \\\n",
       "0                                                  6             \n",
       "\n",
       "   (Neither satisfied nor dissatisfied, other, Woman)  \\\n",
       "0                                                  0    \n",
       "\n",
       "   (Neither satisfied nor dissatisfied, other, Man)  \\\n",
       "0                                                 8   \n",
       "\n",
       "   (Neither satisfied nor dissatisfied, other, Others)  \n",
       "0                                                  0    \n",
       "\n",
       "[1 rows x 105 columns]"
      ]
     },
     "execution_count": 155,
     "metadata": {},
     "output_type": "execute_result"
    }
   ],
   "source": [
    "multiIndex_df = pd.DataFrame([reformed_dict])\n",
    "multiIndex_df"
   ]
  },
  {
   "cell_type": "code",
   "execution_count": 156,
   "id": "8c5f70c8",
   "metadata": {},
   "outputs": [
    {
     "data": {
      "text/html": [
       "<div>\n",
       "<style scoped>\n",
       "    .dataframe tbody tr th:only-of-type {\n",
       "        vertical-align: middle;\n",
       "    }\n",
       "\n",
       "    .dataframe tbody tr th {\n",
       "        vertical-align: top;\n",
       "    }\n",
       "\n",
       "    .dataframe thead th {\n",
       "        text-align: right;\n",
       "    }\n",
       "</style>\n",
       "<table border=\"1\" class=\"dataframe\">\n",
       "  <thead>\n",
       "    <tr style=\"text-align: right;\">\n",
       "      <th></th>\n",
       "      <th>0</th>\n",
       "    </tr>\n",
       "  </thead>\n",
       "  <tbody>\n",
       "    <tr>\n",
       "      <th>(Slightly satisfied, Asia, Woman)</th>\n",
       "      <td>155</td>\n",
       "    </tr>\n",
       "    <tr>\n",
       "      <th>(Slightly satisfied, Asia, Man)</th>\n",
       "      <td>2773</td>\n",
       "    </tr>\n",
       "    <tr>\n",
       "      <th>(Slightly satisfied, Asia, Others)</th>\n",
       "      <td>22</td>\n",
       "    </tr>\n",
       "    <tr>\n",
       "      <th>(Slightly satisfied, Oceania, Woman)</th>\n",
       "      <td>37</td>\n",
       "    </tr>\n",
       "    <tr>\n",
       "      <th>(Slightly satisfied, Oceania, Man)</th>\n",
       "      <td>512</td>\n",
       "    </tr>\n",
       "    <tr>\n",
       "      <th>...</th>\n",
       "      <td>...</td>\n",
       "    </tr>\n",
       "    <tr>\n",
       "      <th>(Neither satisfied nor dissatisfied, South America, Man)</th>\n",
       "      <td>408</td>\n",
       "    </tr>\n",
       "    <tr>\n",
       "      <th>(Neither satisfied nor dissatisfied, South America, Others)</th>\n",
       "      <td>6</td>\n",
       "    </tr>\n",
       "    <tr>\n",
       "      <th>(Neither satisfied nor dissatisfied, other, Woman)</th>\n",
       "      <td>0</td>\n",
       "    </tr>\n",
       "    <tr>\n",
       "      <th>(Neither satisfied nor dissatisfied, other, Man)</th>\n",
       "      <td>8</td>\n",
       "    </tr>\n",
       "    <tr>\n",
       "      <th>(Neither satisfied nor dissatisfied, other, Others)</th>\n",
       "      <td>0</td>\n",
       "    </tr>\n",
       "  </tbody>\n",
       "</table>\n",
       "<p>105 rows × 1 columns</p>\n",
       "</div>"
      ],
      "text/plain": [
       "                                                       0\n",
       "(Slightly satisfied, Asia, Woman)                    155\n",
       "(Slightly satisfied, Asia, Man)                     2773\n",
       "(Slightly satisfied, Asia, Others)                    22\n",
       "(Slightly satisfied, Oceania, Woman)                  37\n",
       "(Slightly satisfied, Oceania, Man)                   512\n",
       "...                                                  ...\n",
       "(Neither satisfied nor dissatisfied, South Amer...   408\n",
       "(Neither satisfied nor dissatisfied, South Amer...     6\n",
       "(Neither satisfied nor dissatisfied, other, Woman)     0\n",
       "(Neither satisfied nor dissatisfied, other, Man)       8\n",
       "(Neither satisfied nor dissatisfied, other, Oth...     0\n",
       "\n",
       "[105 rows x 1 columns]"
      ]
     },
     "execution_count": 156,
     "metadata": {},
     "output_type": "execute_result"
    }
   ],
   "source": [
    "multiIndex_df.transpose()"
   ]
  },
  {
   "cell_type": "markdown",
   "id": "9f4c1f5a",
   "metadata": {},
   "source": [
    "### for jobsat:"
   ]
  },
  {
   "cell_type": "code",
   "execution_count": 130,
   "id": "cf9ec08f",
   "metadata": {},
   "outputs": [],
   "source": [
    "djss = {}\n",
    "djvs = {}\n",
    "djvd = {}\n",
    "djsd = {}\n",
    "djnsd = {}"
   ]
  },
  {
   "cell_type": "code",
   "execution_count": 144,
   "id": "c28a85e6",
   "metadata": {},
   "outputs": [],
   "source": [
    "for i in range(len(df3['JobSat'])):\n",
    "    if df3['JobSat'].iloc[i] == \"Slightly satisfied\":\n",
    "        if df3[\"Continent\"].iloc[i] not in djss:\n",
    "            djss[df3[\"Continent\"].iloc[i]] = {\"Woman\" : 0,\"Man\" : 0,\"Others\":0}\n",
    "            if df3[\"Gender\"].iloc[i] == \"Woman\":\n",
    "                djss[df3[\"Continent\"].iloc[i]][\"Woman\"] += 1\n",
    "            elif df3[\"Gender\"].iloc[i] == \"Man\":\n",
    "                djss[df3[\"Continent\"].iloc[i]][\"Man\"] += 1\n",
    "            else:\n",
    "                djss[df3[\"Continent\"].iloc[i]][\"Others\"] += 1\n",
    "        else:\n",
    "            if df3[\"Gender\"].iloc[i] == \"Woman\":\n",
    "                djss[df3[\"Continent\"].iloc[i]][\"Woman\"] += 1\n",
    "            elif df3[\"Gender\"].iloc[i] == \"Man\":\n",
    "                djss[df3[\"Continent\"].iloc[i]][\"Man\"] += 1\n",
    "            else:\n",
    "                djss[df3[\"Continent\"].iloc[i]][\"Others\"] += 1\n",
    "    if df3['JobSat'].iloc[i] == \"Very satisfied\":\n",
    "        if df3[\"Continent\"].iloc[i] not in djvs:\n",
    "            djvs[df3[\"Continent\"].iloc[i]] = {\"Woman\" : 0,\"Man\" : 0,\"Others\":0}\n",
    "            if df3[\"Gender\"].iloc[i] == \"Woman\":\n",
    "                djvs[df3[\"Continent\"].iloc[i]][\"Woman\"] += 1\n",
    "            elif df3[\"Gender\"].iloc[i] == \"Man\":\n",
    "                djvs[df3[\"Continent\"].iloc[i]][\"Man\"] += 1\n",
    "            else:\n",
    "                djvs[df3[\"Continent\"].iloc[i]][\"Others\"] += 1\n",
    "        else:\n",
    "            if df3[\"Gender\"].iloc[i] == \"Woman\":\n",
    "                djvs[df3[\"Continent\"].iloc[i]][\"Woman\"] += 1\n",
    "            elif df3[\"Gender\"].iloc[i] == \"Man\":\n",
    "                djvs[df3[\"Continent\"].iloc[i]][\"Man\"] += 1\n",
    "            else:\n",
    "                djvs[df3[\"Continent\"].iloc[i]][\"Others\"] += 1\n",
    "    if df3['JobSat'].iloc[i] == \"Neither satisfied nor dissatisfied\":\n",
    "        if df3[\"Continent\"].iloc[i] not in djnsd:\n",
    "            djnsd[df3[\"Continent\"].iloc[i]] = {\"Woman\" : 0,\"Man\" : 0,\"Others\":0}\n",
    "            if df3[\"Gender\"].iloc[i] == \"Woman\":\n",
    "                djnsd[df3[\"Continent\"].iloc[i]][\"Woman\"] += 1\n",
    "            elif df3[\"Gender\"].iloc[i] == \"Man\":\n",
    "                djnsd[df3[\"Continent\"].iloc[i]][\"Man\"] += 1\n",
    "            else:\n",
    "                djnsd[df3[\"Continent\"].iloc[i]][\"Others\"] += 1\n",
    "        else:\n",
    "            if df3[\"Gender\"].iloc[i] == \"Woman\":\n",
    "                djnsd[df3[\"Continent\"].iloc[i]][\"Woman\"] += 1\n",
    "            elif df3[\"Gender\"].iloc[i] == \"Man\":\n",
    "                djnsd[df3[\"Continent\"].iloc[i]][\"Man\"] += 1\n",
    "            else:\n",
    "                djnsd[df3[\"Continent\"].iloc[i]][\"Others\"] += 1\n",
    "    if df3['JobSat'].iloc[i] == \"Slightly dissatisfied\":\n",
    "        if df3[\"Continent\"].iloc[i] not in djsd:\n",
    "            djsd[df3[\"Continent\"].iloc[i]] = {\"Woman\" : 0,\"Man\" : 0,\"Others\":0}\n",
    "            if df3[\"Gender\"].iloc[i] == \"Woman\":\n",
    "                djsd[df3[\"Continent\"].iloc[i]][\"Woman\"] += 1\n",
    "            elif df3[\"Gender\"].iloc[i] == \"Man\":\n",
    "                djsd[df3[\"Continent\"].iloc[i]][\"Man\"] += 1\n",
    "            else:\n",
    "                djsd[df3[\"Continent\"].iloc[i]][\"Others\"] += 1\n",
    "        else:\n",
    "            if df3[\"Gender\"].iloc[i] == \"Woman\":\n",
    "                djsd[df3[\"Continent\"].iloc[i]][\"Woman\"] += 1\n",
    "            elif df3[\"Gender\"].iloc[i] == \"Man\":\n",
    "                djsd[df3[\"Continent\"].iloc[i]][\"Man\"] += 1\n",
    "            else:\n",
    "                djsd[df3[\"Continent\"].iloc[i]][\"Others\"] += 1\n",
    "    if df3['JobSat'].iloc[i] == \"Very dissatisfied\":\n",
    "        if df3[\"Continent\"].iloc[i] not in djvd:\n",
    "            djvd[df3[\"Continent\"].iloc[i]] = {\"Woman\" : 0,\"Man\" : 0,\"Others\":0}\n",
    "            if df3[\"Gender\"].iloc[i] == \"Woman\":\n",
    "                djvd[df3[\"Continent\"].iloc[i]][\"Woman\"] += 1\n",
    "            elif df3[\"Gender\"].iloc[i] == \"Man\":\n",
    "                djvd[df3[\"Continent\"].iloc[i]][\"Man\"] += 1\n",
    "            else:\n",
    "                djvd[df3[\"Continent\"].iloc[i]][\"Others\"] += 1\n",
    "        else:\n",
    "            if df3[\"Gender\"].iloc[i] == \"Woman\":\n",
    "                djvd[df3[\"Continent\"].iloc[i]][\"Woman\"] += 1\n",
    "            elif df3[\"Gender\"].iloc[i] == \"Man\":\n",
    "                djvd[df3[\"Continent\"].iloc[i]][\"Man\"] += 1\n",
    "            else:\n",
    "                djvd[df3[\"Continent\"].iloc[i]][\"Others\"] += 1"
   ]
  },
  {
   "cell_type": "code",
   "execution_count": 145,
   "id": "8c2cf1b8",
   "metadata": {},
   "outputs": [],
   "source": [
    "djfinal = {}"
   ]
  },
  {
   "cell_type": "code",
   "execution_count": 146,
   "id": "483cfa06",
   "metadata": {},
   "outputs": [],
   "source": [
    "djfinal[\"Slightly satisfied\"] = djss\n",
    "djfinal[\"Very satisfied\"] = djvs\n",
    "djfinal[\"Very dissatisfied\"] = djvd\n",
    "djfinal[\"Slightly dissatisfied\"] = djsd\n",
    "djfinal[\"Neither satisfied nor dissatisfied\"] = djnsd"
   ]
  },
  {
   "cell_type": "code",
   "execution_count": 147,
   "id": "30e7a4c2",
   "metadata": {},
   "outputs": [
    {
     "data": {
      "text/plain": [
       "{'Slightly satisfied': {'Asia': {'Woman': 146, 'Man': 2807, 'Others': 22},\n",
       "  'North America': {'Woman': 508, 'Man': 5131, 'Others': 97},\n",
       "  'Oceania': {'Woman': 31, 'Man': 500, 'Others': 7},\n",
       "  'Europe': {'Woman': 451, 'Man': 7885, 'Others': 58},\n",
       "  'South America': {'Woman': 45, 'Man': 767, 'Others': 7},\n",
       "  'Africa': {'Woman': 21, 'Man': 412, 'Others': 4},\n",
       "  'other': {'Woman': 2, 'Man': 19, 'Others': 0}},\n",
       " 'Very satisfied': {'North America': {'Woman': 756,\n",
       "   'Man': 6212,\n",
       "   'Others': 106},\n",
       "  'Europe': {'Woman': 455, 'Man': 6758, 'Others': 74},\n",
       "  'South America': {'Woman': 33, 'Man': 574, 'Others': 0},\n",
       "  'Asia': {'Woman': 104, 'Man': 1654, 'Others': 15},\n",
       "  'Africa': {'Woman': 21, 'Man': 273, 'Others': 1},\n",
       "  'Oceania': {'Woman': 35, 'Man': 528, 'Others': 8},\n",
       "  'other': {'Woman': 1, 'Man': 15, 'Others': 0}},\n",
       " 'Very dissatisfied': {'North America': {'Woman': 87,\n",
       "   'Man': 941,\n",
       "   'Others': 27},\n",
       "  'Asia': {'Woman': 49, 'Man': 665, 'Others': 6},\n",
       "  'Europe': {'Woman': 89, 'Man': 1435, 'Others': 20},\n",
       "  'Africa': {'Woman': 17, 'Man': 94, 'Others': 3},\n",
       "  'Oceania': {'Woman': 5, 'Man': 95, 'Others': 1},\n",
       "  'South America': {'Woman': 10, 'Man': 206, 'Others': 3},\n",
       "  'other': {'Woman': 1, 'Man': 7, 'Others': 1}},\n",
       " 'Slightly dissatisfied': {'Europe': {'Woman': 216, 'Man': 3321, 'Others': 35},\n",
       "  'Asia': {'Woman': 89, 'Man': 1524, 'Others': 9},\n",
       "  'North America': {'Woman': 220, 'Man': 2064, 'Others': 46},\n",
       "  'Oceania': {'Woman': 9, 'Man': 207, 'Others': 4},\n",
       "  'South America': {'Woman': 20, 'Man': 469, 'Others': 5},\n",
       "  'Africa': {'Woman': 15, 'Man': 199, 'Others': 1},\n",
       "  'other': {'Woman': 0, 'Man': 9, 'Others': 0}},\n",
       " 'Neither satisfied nor dissatisfied': {'Oceania': {'Woman': 7,\n",
       "   'Man': 144,\n",
       "   'Others': 3},\n",
       "  'Europe': {'Woman': 124, 'Man': 2437, 'Others': 20},\n",
       "  'South America': {'Woman': 14, 'Man': 308, 'Others': 1},\n",
       "  'North America': {'Woman': 101, 'Man': 1364, 'Others': 28},\n",
       "  'Asia': {'Woman': 63, 'Man': 1305, 'Others': 14},\n",
       "  'Africa': {'Woman': 12, 'Man': 157, 'Others': 2},\n",
       "  'other': {'Woman': 0, 'Man': 2, 'Others': 0}}}"
      ]
     },
     "execution_count": 147,
     "metadata": {},
     "output_type": "execute_result"
    }
   ],
   "source": [
    "djfinal"
   ]
  },
  {
   "cell_type": "code",
   "execution_count": 148,
   "id": "35e5045d",
   "metadata": {},
   "outputs": [],
   "source": [
    "reformed_dict = {}\n",
    "for outerKey, innerDict in djfinal.items():\n",
    "    for innerKey, values in innerDict.items():\n",
    "        for ik,v in values.items():\n",
    "            reformed_dict[(outerKey,innerKey,ik)] = v"
   ]
  },
  {
   "cell_type": "code",
   "execution_count": 149,
   "id": "98ad26cf",
   "metadata": {},
   "outputs": [
    {
     "data": {
      "text/plain": [
       "{('Slightly satisfied', 'Asia', 'Woman'): 146,\n",
       " ('Slightly satisfied', 'Asia', 'Man'): 2807,\n",
       " ('Slightly satisfied', 'Asia', 'Others'): 22,\n",
       " ('Slightly satisfied', 'North America', 'Woman'): 508,\n",
       " ('Slightly satisfied', 'North America', 'Man'): 5131,\n",
       " ('Slightly satisfied', 'North America', 'Others'): 97,\n",
       " ('Slightly satisfied', 'Oceania', 'Woman'): 31,\n",
       " ('Slightly satisfied', 'Oceania', 'Man'): 500,\n",
       " ('Slightly satisfied', 'Oceania', 'Others'): 7,\n",
       " ('Slightly satisfied', 'Europe', 'Woman'): 451,\n",
       " ('Slightly satisfied', 'Europe', 'Man'): 7885,\n",
       " ('Slightly satisfied', 'Europe', 'Others'): 58,\n",
       " ('Slightly satisfied', 'South America', 'Woman'): 45,\n",
       " ('Slightly satisfied', 'South America', 'Man'): 767,\n",
       " ('Slightly satisfied', 'South America', 'Others'): 7,\n",
       " ('Slightly satisfied', 'Africa', 'Woman'): 21,\n",
       " ('Slightly satisfied', 'Africa', 'Man'): 412,\n",
       " ('Slightly satisfied', 'Africa', 'Others'): 4,\n",
       " ('Slightly satisfied', 'other', 'Woman'): 2,\n",
       " ('Slightly satisfied', 'other', 'Man'): 19,\n",
       " ('Slightly satisfied', 'other', 'Others'): 0,\n",
       " ('Very satisfied', 'North America', 'Woman'): 756,\n",
       " ('Very satisfied', 'North America', 'Man'): 6212,\n",
       " ('Very satisfied', 'North America', 'Others'): 106,\n",
       " ('Very satisfied', 'Europe', 'Woman'): 455,\n",
       " ('Very satisfied', 'Europe', 'Man'): 6758,\n",
       " ('Very satisfied', 'Europe', 'Others'): 74,\n",
       " ('Very satisfied', 'South America', 'Woman'): 33,\n",
       " ('Very satisfied', 'South America', 'Man'): 574,\n",
       " ('Very satisfied', 'South America', 'Others'): 0,\n",
       " ('Very satisfied', 'Asia', 'Woman'): 104,\n",
       " ('Very satisfied', 'Asia', 'Man'): 1654,\n",
       " ('Very satisfied', 'Asia', 'Others'): 15,\n",
       " ('Very satisfied', 'Africa', 'Woman'): 21,\n",
       " ('Very satisfied', 'Africa', 'Man'): 273,\n",
       " ('Very satisfied', 'Africa', 'Others'): 1,\n",
       " ('Very satisfied', 'Oceania', 'Woman'): 35,\n",
       " ('Very satisfied', 'Oceania', 'Man'): 528,\n",
       " ('Very satisfied', 'Oceania', 'Others'): 8,\n",
       " ('Very satisfied', 'other', 'Woman'): 1,\n",
       " ('Very satisfied', 'other', 'Man'): 15,\n",
       " ('Very satisfied', 'other', 'Others'): 0,\n",
       " ('Very dissatisfied', 'North America', 'Woman'): 87,\n",
       " ('Very dissatisfied', 'North America', 'Man'): 941,\n",
       " ('Very dissatisfied', 'North America', 'Others'): 27,\n",
       " ('Very dissatisfied', 'Asia', 'Woman'): 49,\n",
       " ('Very dissatisfied', 'Asia', 'Man'): 665,\n",
       " ('Very dissatisfied', 'Asia', 'Others'): 6,\n",
       " ('Very dissatisfied', 'Europe', 'Woman'): 89,\n",
       " ('Very dissatisfied', 'Europe', 'Man'): 1435,\n",
       " ('Very dissatisfied', 'Europe', 'Others'): 20,\n",
       " ('Very dissatisfied', 'Africa', 'Woman'): 17,\n",
       " ('Very dissatisfied', 'Africa', 'Man'): 94,\n",
       " ('Very dissatisfied', 'Africa', 'Others'): 3,\n",
       " ('Very dissatisfied', 'Oceania', 'Woman'): 5,\n",
       " ('Very dissatisfied', 'Oceania', 'Man'): 95,\n",
       " ('Very dissatisfied', 'Oceania', 'Others'): 1,\n",
       " ('Very dissatisfied', 'South America', 'Woman'): 10,\n",
       " ('Very dissatisfied', 'South America', 'Man'): 206,\n",
       " ('Very dissatisfied', 'South America', 'Others'): 3,\n",
       " ('Very dissatisfied', 'other', 'Woman'): 1,\n",
       " ('Very dissatisfied', 'other', 'Man'): 7,\n",
       " ('Very dissatisfied', 'other', 'Others'): 1,\n",
       " ('Slightly dissatisfied', 'Europe', 'Woman'): 216,\n",
       " ('Slightly dissatisfied', 'Europe', 'Man'): 3321,\n",
       " ('Slightly dissatisfied', 'Europe', 'Others'): 35,\n",
       " ('Slightly dissatisfied', 'Asia', 'Woman'): 89,\n",
       " ('Slightly dissatisfied', 'Asia', 'Man'): 1524,\n",
       " ('Slightly dissatisfied', 'Asia', 'Others'): 9,\n",
       " ('Slightly dissatisfied', 'North America', 'Woman'): 220,\n",
       " ('Slightly dissatisfied', 'North America', 'Man'): 2064,\n",
       " ('Slightly dissatisfied', 'North America', 'Others'): 46,\n",
       " ('Slightly dissatisfied', 'Oceania', 'Woman'): 9,\n",
       " ('Slightly dissatisfied', 'Oceania', 'Man'): 207,\n",
       " ('Slightly dissatisfied', 'Oceania', 'Others'): 4,\n",
       " ('Slightly dissatisfied', 'South America', 'Woman'): 20,\n",
       " ('Slightly dissatisfied', 'South America', 'Man'): 469,\n",
       " ('Slightly dissatisfied', 'South America', 'Others'): 5,\n",
       " ('Slightly dissatisfied', 'Africa', 'Woman'): 15,\n",
       " ('Slightly dissatisfied', 'Africa', 'Man'): 199,\n",
       " ('Slightly dissatisfied', 'Africa', 'Others'): 1,\n",
       " ('Slightly dissatisfied', 'other', 'Woman'): 0,\n",
       " ('Slightly dissatisfied', 'other', 'Man'): 9,\n",
       " ('Slightly dissatisfied', 'other', 'Others'): 0,\n",
       " ('Neither satisfied nor dissatisfied', 'Oceania', 'Woman'): 7,\n",
       " ('Neither satisfied nor dissatisfied', 'Oceania', 'Man'): 144,\n",
       " ('Neither satisfied nor dissatisfied', 'Oceania', 'Others'): 3,\n",
       " ('Neither satisfied nor dissatisfied', 'Europe', 'Woman'): 124,\n",
       " ('Neither satisfied nor dissatisfied', 'Europe', 'Man'): 2437,\n",
       " ('Neither satisfied nor dissatisfied', 'Europe', 'Others'): 20,\n",
       " ('Neither satisfied nor dissatisfied', 'South America', 'Woman'): 14,\n",
       " ('Neither satisfied nor dissatisfied', 'South America', 'Man'): 308,\n",
       " ('Neither satisfied nor dissatisfied', 'South America', 'Others'): 1,\n",
       " ('Neither satisfied nor dissatisfied', 'North America', 'Woman'): 101,\n",
       " ('Neither satisfied nor dissatisfied', 'North America', 'Man'): 1364,\n",
       " ('Neither satisfied nor dissatisfied', 'North America', 'Others'): 28,\n",
       " ('Neither satisfied nor dissatisfied', 'Asia', 'Woman'): 63,\n",
       " ('Neither satisfied nor dissatisfied', 'Asia', 'Man'): 1305,\n",
       " ('Neither satisfied nor dissatisfied', 'Asia', 'Others'): 14,\n",
       " ('Neither satisfied nor dissatisfied', 'Africa', 'Woman'): 12,\n",
       " ('Neither satisfied nor dissatisfied', 'Africa', 'Man'): 157,\n",
       " ('Neither satisfied nor dissatisfied', 'Africa', 'Others'): 2,\n",
       " ('Neither satisfied nor dissatisfied', 'other', 'Woman'): 0,\n",
       " ('Neither satisfied nor dissatisfied', 'other', 'Man'): 2,\n",
       " ('Neither satisfied nor dissatisfied', 'other', 'Others'): 0}"
      ]
     },
     "execution_count": 149,
     "metadata": {},
     "output_type": "execute_result"
    }
   ],
   "source": [
    "reformed_dict"
   ]
  },
  {
   "cell_type": "code",
   "execution_count": 150,
   "id": "222f99a4",
   "metadata": {},
   "outputs": [
    {
     "data": {
      "text/html": [
       "<div>\n",
       "<style scoped>\n",
       "    .dataframe tbody tr th:only-of-type {\n",
       "        vertical-align: middle;\n",
       "    }\n",
       "\n",
       "    .dataframe tbody tr th {\n",
       "        vertical-align: top;\n",
       "    }\n",
       "\n",
       "    .dataframe thead th {\n",
       "        text-align: right;\n",
       "    }\n",
       "</style>\n",
       "<table border=\"1\" class=\"dataframe\">\n",
       "  <thead>\n",
       "    <tr style=\"text-align: right;\">\n",
       "      <th></th>\n",
       "      <th>(Slightly satisfied, Asia, Woman)</th>\n",
       "      <th>(Slightly satisfied, Asia, Man)</th>\n",
       "      <th>(Slightly satisfied, Asia, Others)</th>\n",
       "      <th>(Slightly satisfied, North America, Woman)</th>\n",
       "      <th>(Slightly satisfied, North America, Man)</th>\n",
       "      <th>(Slightly satisfied, North America, Others)</th>\n",
       "      <th>(Slightly satisfied, Oceania, Woman)</th>\n",
       "      <th>(Slightly satisfied, Oceania, Man)</th>\n",
       "      <th>(Slightly satisfied, Oceania, Others)</th>\n",
       "      <th>(Slightly satisfied, Europe, Woman)</th>\n",
       "      <th>...</th>\n",
       "      <th>(Neither satisfied nor dissatisfied, North America, Others)</th>\n",
       "      <th>(Neither satisfied nor dissatisfied, Asia, Woman)</th>\n",
       "      <th>(Neither satisfied nor dissatisfied, Asia, Man)</th>\n",
       "      <th>(Neither satisfied nor dissatisfied, Asia, Others)</th>\n",
       "      <th>(Neither satisfied nor dissatisfied, Africa, Woman)</th>\n",
       "      <th>(Neither satisfied nor dissatisfied, Africa, Man)</th>\n",
       "      <th>(Neither satisfied nor dissatisfied, Africa, Others)</th>\n",
       "      <th>(Neither satisfied nor dissatisfied, other, Woman)</th>\n",
       "      <th>(Neither satisfied nor dissatisfied, other, Man)</th>\n",
       "      <th>(Neither satisfied nor dissatisfied, other, Others)</th>\n",
       "    </tr>\n",
       "  </thead>\n",
       "  <tbody>\n",
       "    <tr>\n",
       "      <th>0</th>\n",
       "      <td>146</td>\n",
       "      <td>2807</td>\n",
       "      <td>22</td>\n",
       "      <td>508</td>\n",
       "      <td>5131</td>\n",
       "      <td>97</td>\n",
       "      <td>31</td>\n",
       "      <td>500</td>\n",
       "      <td>7</td>\n",
       "      <td>451</td>\n",
       "      <td>...</td>\n",
       "      <td>28</td>\n",
       "      <td>63</td>\n",
       "      <td>1305</td>\n",
       "      <td>14</td>\n",
       "      <td>12</td>\n",
       "      <td>157</td>\n",
       "      <td>2</td>\n",
       "      <td>0</td>\n",
       "      <td>2</td>\n",
       "      <td>0</td>\n",
       "    </tr>\n",
       "  </tbody>\n",
       "</table>\n",
       "<p>1 rows × 105 columns</p>\n",
       "</div>"
      ],
      "text/plain": [
       "   (Slightly satisfied, Asia, Woman)  (Slightly satisfied, Asia, Man)  \\\n",
       "0                                146                             2807   \n",
       "\n",
       "   (Slightly satisfied, Asia, Others)  \\\n",
       "0                                  22   \n",
       "\n",
       "   (Slightly satisfied, North America, Woman)  \\\n",
       "0                                         508   \n",
       "\n",
       "   (Slightly satisfied, North America, Man)  \\\n",
       "0                                      5131   \n",
       "\n",
       "   (Slightly satisfied, North America, Others)  \\\n",
       "0                                           97   \n",
       "\n",
       "   (Slightly satisfied, Oceania, Woman)  (Slightly satisfied, Oceania, Man)  \\\n",
       "0                                    31                                 500   \n",
       "\n",
       "   (Slightly satisfied, Oceania, Others)  (Slightly satisfied, Europe, Woman)  \\\n",
       "0                                      7                                  451   \n",
       "\n",
       "   ...  (Neither satisfied nor dissatisfied, North America, Others)  \\\n",
       "0  ...                                                 28             \n",
       "\n",
       "   (Neither satisfied nor dissatisfied, Asia, Woman)  \\\n",
       "0                                                 63   \n",
       "\n",
       "   (Neither satisfied nor dissatisfied, Asia, Man)  \\\n",
       "0                                             1305   \n",
       "\n",
       "   (Neither satisfied nor dissatisfied, Asia, Others)  \\\n",
       "0                                                 14    \n",
       "\n",
       "   (Neither satisfied nor dissatisfied, Africa, Woman)  \\\n",
       "0                                                 12     \n",
       "\n",
       "   (Neither satisfied nor dissatisfied, Africa, Man)  \\\n",
       "0                                                157   \n",
       "\n",
       "   (Neither satisfied nor dissatisfied, Africa, Others)  \\\n",
       "0                                                  2      \n",
       "\n",
       "   (Neither satisfied nor dissatisfied, other, Woman)  \\\n",
       "0                                                  0    \n",
       "\n",
       "   (Neither satisfied nor dissatisfied, other, Man)  \\\n",
       "0                                                 2   \n",
       "\n",
       "   (Neither satisfied nor dissatisfied, other, Others)  \n",
       "0                                                  0    \n",
       "\n",
       "[1 rows x 105 columns]"
      ]
     },
     "execution_count": 150,
     "metadata": {},
     "output_type": "execute_result"
    }
   ],
   "source": [
    "multiIndex_df = pd.DataFrame([reformed_dict])\n",
    "multiIndex_df"
   ]
  },
  {
   "cell_type": "code",
   "execution_count": 151,
   "id": "f5bbbf96",
   "metadata": {},
   "outputs": [
    {
     "data": {
      "text/html": [
       "<div>\n",
       "<style scoped>\n",
       "    .dataframe tbody tr th:only-of-type {\n",
       "        vertical-align: middle;\n",
       "    }\n",
       "\n",
       "    .dataframe tbody tr th {\n",
       "        vertical-align: top;\n",
       "    }\n",
       "\n",
       "    .dataframe thead th {\n",
       "        text-align: right;\n",
       "    }\n",
       "</style>\n",
       "<table border=\"1\" class=\"dataframe\">\n",
       "  <thead>\n",
       "    <tr style=\"text-align: right;\">\n",
       "      <th></th>\n",
       "      <th>0</th>\n",
       "    </tr>\n",
       "  </thead>\n",
       "  <tbody>\n",
       "    <tr>\n",
       "      <th>(Slightly satisfied, Asia, Woman)</th>\n",
       "      <td>146</td>\n",
       "    </tr>\n",
       "    <tr>\n",
       "      <th>(Slightly satisfied, Asia, Man)</th>\n",
       "      <td>2807</td>\n",
       "    </tr>\n",
       "    <tr>\n",
       "      <th>(Slightly satisfied, Asia, Others)</th>\n",
       "      <td>22</td>\n",
       "    </tr>\n",
       "    <tr>\n",
       "      <th>(Slightly satisfied, North America, Woman)</th>\n",
       "      <td>508</td>\n",
       "    </tr>\n",
       "    <tr>\n",
       "      <th>(Slightly satisfied, North America, Man)</th>\n",
       "      <td>5131</td>\n",
       "    </tr>\n",
       "    <tr>\n",
       "      <th>...</th>\n",
       "      <td>...</td>\n",
       "    </tr>\n",
       "    <tr>\n",
       "      <th>(Neither satisfied nor dissatisfied, Africa, Man)</th>\n",
       "      <td>157</td>\n",
       "    </tr>\n",
       "    <tr>\n",
       "      <th>(Neither satisfied nor dissatisfied, Africa, Others)</th>\n",
       "      <td>2</td>\n",
       "    </tr>\n",
       "    <tr>\n",
       "      <th>(Neither satisfied nor dissatisfied, other, Woman)</th>\n",
       "      <td>0</td>\n",
       "    </tr>\n",
       "    <tr>\n",
       "      <th>(Neither satisfied nor dissatisfied, other, Man)</th>\n",
       "      <td>2</td>\n",
       "    </tr>\n",
       "    <tr>\n",
       "      <th>(Neither satisfied nor dissatisfied, other, Others)</th>\n",
       "      <td>0</td>\n",
       "    </tr>\n",
       "  </tbody>\n",
       "</table>\n",
       "<p>105 rows × 1 columns</p>\n",
       "</div>"
      ],
      "text/plain": [
       "                                                       0\n",
       "(Slightly satisfied, Asia, Woman)                    146\n",
       "(Slightly satisfied, Asia, Man)                     2807\n",
       "(Slightly satisfied, Asia, Others)                    22\n",
       "(Slightly satisfied, North America, Woman)           508\n",
       "(Slightly satisfied, North America, Man)            5131\n",
       "...                                                  ...\n",
       "(Neither satisfied nor dissatisfied, Africa, Man)    157\n",
       "(Neither satisfied nor dissatisfied, Africa, Ot...     2\n",
       "(Neither satisfied nor dissatisfied, other, Woman)     0\n",
       "(Neither satisfied nor dissatisfied, other, Man)       2\n",
       "(Neither satisfied nor dissatisfied, other, Oth...     0\n",
       "\n",
       "[105 rows x 1 columns]"
      ]
     },
     "execution_count": 151,
     "metadata": {},
     "output_type": "execute_result"
    }
   ],
   "source": [
    "multiIndex_df.transpose()"
   ]
  },
  {
   "cell_type": "code",
   "execution_count": null,
   "id": "6defd640",
   "metadata": {},
   "outputs": [],
   "source": []
  }
 ],
 "metadata": {
  "kernelspec": {
   "display_name": "Python 3 (ipykernel)",
   "language": "python",
   "name": "python3"
  },
  "language_info": {
   "codemirror_mode": {
    "name": "ipython",
    "version": 3
   },
   "file_extension": ".py",
   "mimetype": "text/x-python",
   "name": "python",
   "nbconvert_exporter": "python",
   "pygments_lexer": "ipython3",
   "version": "3.9.13"
  }
 },
 "nbformat": 4,
 "nbformat_minor": 5
}
