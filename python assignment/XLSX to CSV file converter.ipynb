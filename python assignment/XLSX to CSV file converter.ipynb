{
 "cells": [
  {
   "cell_type": "code",
   "execution_count": 1,
   "id": "13c6bd2a",
   "metadata": {},
   "outputs": [
    {
     "name": "stdout",
     "output_type": "stream",
     "text": [
      "Requirement already satisfied: pandas in c:\\users\\svsre\\anaconda3\\lib\\site-packages (1.4.4)\n",
      "Requirement already satisfied: numpy>=1.18.5 in c:\\users\\svsre\\anaconda3\\lib\\site-packages (from pandas) (1.21.5)\n",
      "Requirement already satisfied: python-dateutil>=2.8.1 in c:\\users\\svsre\\anaconda3\\lib\\site-packages (from pandas) (2.8.2)\n",
      "Requirement already satisfied: pytz>=2020.1 in c:\\users\\svsre\\anaconda3\\lib\\site-packages (from pandas) (2022.1)\n",
      "Requirement already satisfied: six>=1.5 in c:\\users\\svsre\\anaconda3\\lib\\site-packages (from python-dateutil>=2.8.1->pandas) (1.16.0)\n",
      "Note: you may need to restart the kernel to use updated packages.\n"
     ]
    }
   ],
   "source": [
    "pip install pandas"
   ]
  },
  {
   "cell_type": "code",
   "execution_count": 8,
   "id": "ca3bf8d8",
   "metadata": {},
   "outputs": [],
   "source": [
    "xpath = r'C:\\Users\\SVsre\\Downloads\\Sample_Data - Python Assignment.xlsx'"
   ]
  },
  {
   "cell_type": "code",
   "execution_count": 9,
   "id": "80f55f13",
   "metadata": {},
   "outputs": [],
   "source": [
    "cpath = r\"C:\\Users\\SVsre\\Documents\\new_csv.csv\""
   ]
  },
  {
   "cell_type": "code",
   "execution_count": 10,
   "id": "dac37e4a",
   "metadata": {},
   "outputs": [],
   "source": [
    "import pandas as pd"
   ]
  },
  {
   "cell_type": "code",
   "execution_count": 13,
   "id": "e488f296",
   "metadata": {},
   "outputs": [
    {
     "name": "stdout",
     "output_type": "stream",
     "text": [
      "Sample_Data - Python Assignment.xlsx/\n",
      "\n",
      "Office Supply Sales.csv\n",
      "\n",
      "Food Sales.csv\n"
     ]
    }
   ],
   "source": [
    "xlfile = 'Sample_Data - Python Assignment.xlsx'\n",
    "xl = pd.ExcelFile(xlfile)\n",
    "print(xlfile + \"/\")\n",
    "for sheet in xl.sheet_names:\n",
    "    df_tmp = xl.parse(sheet)\n",
    "    csvfile = str(sheet) + \".csv\"\n",
    "    df_tmp.to_csv(csvfile, index=False)\n",
    "    print(\"\\n\"+csvfile)"
   ]
  },
  {
   "cell_type": "code",
   "execution_count": null,
   "id": "ef915887",
   "metadata": {},
   "outputs": [],
   "source": []
  }
 ],
 "metadata": {
  "kernelspec": {
   "display_name": "Python 3 (ipykernel)",
   "language": "python",
   "name": "python3"
  },
  "language_info": {
   "codemirror_mode": {
    "name": "ipython",
    "version": 3
   },
   "file_extension": ".py",
   "mimetype": "text/x-python",
   "name": "python",
   "nbconvert_exporter": "python",
   "pygments_lexer": "ipython3",
   "version": "3.9.13"
  }
 },
 "nbformat": 4,
 "nbformat_minor": 5
}
