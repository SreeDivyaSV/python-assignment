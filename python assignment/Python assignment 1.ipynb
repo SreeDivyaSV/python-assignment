{
 "cells": [
  {
   "cell_type": "markdown",
   "id": "d5816dc5",
   "metadata": {},
   "source": [
    "1.Fetching large data sets using generators"
   ]
  },
  {
   "cell_type": "code",
   "execution_count": null,
   "id": "e7ecff19",
   "metadata": {},
   "outputs": [],
   "source": [
    "import mysql.connector\n",
    "\n",
    "mydb = mysql.connector.connect(\n",
    "  host=\"localhost\",\n",
    "  user=\"root\",\n",
    "  password=\"Dhanya2001*\",\n",
    "  database=\"employees\"\n",
    ")\n",
    "\n",
    "mycursor = mydb.cursor()\n",
    "\n",
    "mycursor.execute(\"SELECT * FROM employees\")\n",
    "\n",
    "#myresult = mycursor.fetchall()\n",
    "\n",
    "#for x in myresult:\n",
    "#  print(x)\n"
   ]
  },
  {
   "cell_type": "code",
   "execution_count": 36,
   "id": "912f772e",
   "metadata": {},
   "outputs": [],
   "source": [
    "from __future__ import generators \n",
    "def ResultIter(cursor, arraysize=1000):\n",
    "    'An iterator that uses fetchmany to keep memory usage down'\n",
    "    while True:\n",
    "        results = cursor.fetchmany(arraysize)\n",
    "        if not results:\n",
    "            break\n",
    "        for result in results:\n",
    "            yield result"
   ]
  },
  {
   "cell_type": "code",
   "execution_count": 37,
   "id": "dfe0cd13",
   "metadata": {},
   "outputs": [],
   "source": [
    "x = ResultIter(mycursor,1000)"
   ]
  },
  {
   "cell_type": "code",
   "execution_count": 38,
   "id": "7fd9a0f4",
   "metadata": {},
   "outputs": [
    {
     "name": "stdout",
     "output_type": "stream",
     "text": [
      "(10001, datetime.date(1953, 9, 2), 'Georgi', 'Facello', 'M', datetime.date(1986, 6, 26))\n"
     ]
    }
   ],
   "source": [
    "print(next(x))"
   ]
  },
  {
   "cell_type": "code",
   "execution_count": 39,
   "id": "c5856c66",
   "metadata": {},
   "outputs": [
    {
     "name": "stdout",
     "output_type": "stream",
     "text": [
      "(10002, datetime.date(1964, 6, 2), 'Bezalel', 'Simmel', 'F', datetime.date(1985, 11, 21))\n"
     ]
    }
   ],
   "source": [
    "print(next(x))"
   ]
  },
  {
   "cell_type": "markdown",
   "id": "3cca336d",
   "metadata": {},
   "source": [
    "3. With a given list [12,24,35,24,88,120,155,88,120,155], write a program to print this list after removing all duplicate values with original order reserved. \n",
    "Hint: Use set() to store a number of values without duplicates. "
   ]
  },
  {
   "cell_type": "code",
   "execution_count": 15,
   "id": "e9e12caa",
   "metadata": {},
   "outputs": [],
   "source": [
    "l= [12,24,35,24,88,120,155,88,120,155]\n",
    "new=list(set(l))\n",
    "new_list=[]"
   ]
  },
  {
   "cell_type": "code",
   "execution_count": 17,
   "id": "7e744b2f",
   "metadata": {},
   "outputs": [
    {
     "name": "stdout",
     "output_type": "stream",
     "text": [
      "[12, 24, 35, 88, 120, 155]\n"
     ]
    }
   ],
   "source": [
    "n=len(new)\n",
    "for i in l:\n",
    "    if i not in new_list:\n",
    "        new_list.append(i)\n",
    "print(new_list)"
   ]
  },
  {
   "cell_type": "markdown",
   "id": "3508db38",
   "metadata": {},
   "source": [
    "4. Write a program that can map() to make a list whose elements are squares of numbers between 1 and 20 (both included). \n",
    "Hints: \n",
    "Use map() to generate a list. \n",
    "Use Lambda to define anonymous functions."
   ]
  },
  {
   "cell_type": "code",
   "execution_count": 18,
   "id": "8e5d9167",
   "metadata": {},
   "outputs": [],
   "source": [
    "l=list(map(lambda x:x*x,[x for x in range(1,21)]))"
   ]
  },
  {
   "cell_type": "code",
   "execution_count": 19,
   "id": "150c7b4c",
   "metadata": {},
   "outputs": [
    {
     "name": "stdout",
     "output_type": "stream",
     "text": [
      "[1, 4, 9, 16, 25, 36, 49, 64, 81, 100, 121, 144, 169, 196, 225, 256, 289, 324, 361, 400]\n"
     ]
    }
   ],
   "source": [
    "print(l)"
   ]
  },
  {
   "cell_type": "markdown",
   "id": "65765243",
   "metadata": {},
   "source": [
    "5. Write a program anti_html.py that takes a URL as an argument, downloads the HTML from the web, and prints it after stripping HTML tags. "
   ]
  },
  {
   "cell_type": "code",
   "execution_count": 28,
   "id": "0812a31e",
   "metadata": {},
   "outputs": [
    {
     "name": "stdout",
     "output_type": "stream",
     "text": [
      "Writing anti_html.py\n"
     ]
    }
   ],
   "source": [
    "%%writefile anti_html.py\n",
    "from bs4 import BeautifulSoup\n",
    "\n",
    "import requests\n",
    "\n",
    "def gethtml(url):\n",
    "    # request web page\n",
    "    resp = requests.get(url)\n",
    "\n",
    "    # get the response text. in this case it is HTML\n",
    "    html = resp.text\n",
    "\n",
    "    # parse the HTML\n",
    "    soup = BeautifulSoup(html, \"html.parser\")\n",
    "\n",
    "    # print the HTML as text\n",
    "    print(soup.body.get_text().strip())\n",
    "gethtml(\"http://example.com/\")"
   ]
  },
  {
   "cell_type": "code",
   "execution_count": null,
   "id": "d91b8875",
   "metadata": {},
   "outputs": [],
   "source": [
    "# %load anti_html.py\n",
    "from bs4 import BeautifulSoup\n",
    "\n",
    "import requests\n",
    "\n",
    "def gethtml(url):\n",
    "    # request web page\n",
    "    resp = requests.get(url)\n",
    "\n",
    "    # get the response text. in this case it is HTML\n",
    "    html = resp.text\n",
    "\n",
    "    # parse the HTML\n",
    "    soup = BeautifulSoup(html, \"html.parser\")\n",
    "\n",
    "    # print the HTML as text\n",
    "    print(soup.body.get_text().strip())\n",
    "gethtml(\"http://example.com/\")\n"
   ]
  },
  {
   "cell_type": "code",
   "execution_count": 30,
   "id": "0a988dd0",
   "metadata": {},
   "outputs": [
    {
     "name": "stdout",
     "output_type": "stream",
     "text": [
      "Example Domain\n",
      "This domain is for use in illustrative examples in documents. You may use this\n",
      "    domain in literature without prior coordination or asking for permission.\n",
      "More information...\n"
     ]
    }
   ],
   "source": [
    "gethtml(\"http://example.com/\")"
   ]
  },
  {
   "cell_type": "markdown",
   "id": "3563c1b6",
   "metadata": {},
   "source": [
    "2. Define a class Person and its two child classes: Male and Female. All classes have a method \"get_gender\" which can print \"Male\" for Male class and \"Female\" for Female Class. "
   ]
  },
  {
   "cell_type": "code",
   "execution_count": 32,
   "id": "f12b9f9a",
   "metadata": {},
   "outputs": [],
   "source": [
    "from abc import ABC, abstractmethod\n",
    "class Person(ABC):\n",
    "    @abstractmethod\n",
    "    def get_gender(self):\n",
    "        pass\n",
    "class Male(Person):\n",
    "    def get_gender(self):\n",
    "        print(\"male\")\n",
    "class Female(Person):\n",
    "    def get_gender(self):\n",
    "        print(\"female\")    "
   ]
  },
  {
   "cell_type": "code",
   "execution_count": 33,
   "id": "057b2e26",
   "metadata": {},
   "outputs": [
    {
     "ename": "TypeError",
     "evalue": "Can't instantiate abstract class Person with abstract method get_gender",
     "output_type": "error",
     "traceback": [
      "\u001b[1;31m---------------------------------------------------------------------------\u001b[0m",
      "\u001b[1;31mTypeError\u001b[0m                                 Traceback (most recent call last)",
      "\u001b[1;32m~\\AppData\\Local\\Temp\\ipykernel_17112\\777157866.py\u001b[0m in \u001b[0;36m<module>\u001b[1;34m\u001b[0m\n\u001b[1;32m----> 1\u001b[1;33m \u001b[0mp\u001b[0m\u001b[1;33m=\u001b[0m\u001b[0mPerson\u001b[0m\u001b[1;33m(\u001b[0m\u001b[1;33m)\u001b[0m\u001b[1;33m\u001b[0m\u001b[1;33m\u001b[0m\u001b[0m\n\u001b[0m",
      "\u001b[1;31mTypeError\u001b[0m: Can't instantiate abstract class Person with abstract method get_gender"
     ]
    }
   ],
   "source": [
    "p=Person()"
   ]
  },
  {
   "cell_type": "code",
   "execution_count": 34,
   "id": "9374cef7",
   "metadata": {},
   "outputs": [
    {
     "name": "stdout",
     "output_type": "stream",
     "text": [
      "male\n"
     ]
    }
   ],
   "source": [
    "m=Male()\n",
    "m.get_gender()"
   ]
  },
  {
   "cell_type": "code",
   "execution_count": 35,
   "id": "146a8318",
   "metadata": {},
   "outputs": [
    {
     "name": "stdout",
     "output_type": "stream",
     "text": [
      "female\n"
     ]
    }
   ],
   "source": [
    "f=Female()\n",
    "f.get_gender()"
   ]
  },
  {
   "cell_type": "code",
   "execution_count": null,
   "id": "2857de4b",
   "metadata": {},
   "outputs": [],
   "source": []
  }
 ],
 "metadata": {
  "kernelspec": {
   "display_name": "Python 3 (ipykernel)",
   "language": "python",
   "name": "python3"
  },
  "language_info": {
   "codemirror_mode": {
    "name": "ipython",
    "version": 3
   },
   "file_extension": ".py",
   "mimetype": "text/x-python",
   "name": "python",
   "nbconvert_exporter": "python",
   "pygments_lexer": "ipython3",
   "version": "3.9.13"
  }
 },
 "nbformat": 4,
 "nbformat_minor": 5
}
